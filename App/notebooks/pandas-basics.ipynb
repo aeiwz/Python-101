{
 "cells": [
  {
   "cell_type": "markdown",
   "id": "75dc61ba",
   "metadata": {},
   "source": [
    "# Intro to ML (scikit-learn)\n",
    "\n",
    "Run this notebook on Colab/Binder/JupyterHub to get full sklearn."
   ]
  },
  {
   "cell_type": "code",
   "execution_count": null,
   "id": "e06109f6",
   "metadata": {},
   "outputs": [],
   "source": [
    "!pip -q install pandas scikit-learn seaborn"
   ]
  },
  {
   "cell_type": "code",
   "execution_count": null,
   "id": "8b7d7d81",
   "metadata": {},
   "outputs": [],
   "source": [
    "from sklearn.datasets import load_iris\n",
    "from sklearn.linear_model import LogisticRegression\n",
    "import pandas as pd"
   ]
  },
  {
   "cell_type": "code",
   "execution_count": null,
   "id": "7c0aff4c",
   "metadata": {},
   "outputs": [],
   "source": [
    "X, y = load_iris(return_X_y=True, as_frame=True)"
   ]
  },
  {
   "cell_type": "code",
   "execution_count": null,
   "id": "fd052643",
   "metadata": {},
   "outputs": [],
   "source": [
    "clf = LogisticRegression(max_iter=500).fit(X, y)"
   ]
  },
  {
   "cell_type": "code",
   "execution_count": null,
   "id": "fc6ef3a4",
   "metadata": {},
   "outputs": [],
   "source": [
    "print('coef:', clf.coef_.shape)"
   ]
  },
  {
   "cell_type": "code",
   "execution_count": null,
   "id": "c3d40096",
   "metadata": {},
   "outputs": [],
   "source": [
    "pd.DataFrame({ 'y_true': y, 'y_pred': clf.predict(X) }).head()"
   ]
  }
 ],
 "metadata": {
  "kernelspec": {
   "display_name": "Python 3",
   "language": "python",
   "name": "python3"
  },
  "language_info": {
   "name": "python",
   "version": "3.12.9"
  }
 },
 "nbformat": 4,
 "nbformat_minor": 5
}
