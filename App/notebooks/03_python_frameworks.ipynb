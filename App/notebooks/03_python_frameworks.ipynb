{
 "cells": [
  {
   "cell_type": "markdown",
   "id": "4f34d9ef",
   "metadata": {},
   "source": [
    "# 3. Python \"Frameworks\"\n",
    "\n",
    "**Learning goals**\n",
    "- Understand the difference between *library* and *framework*.\n",
    "- Get a map of popular frameworks in data, web, and science.\n",
    "- Run tiny examples (only standard libs here; optional install cells provided)."
   ]
  },
  {
   "cell_type": "markdown",
   "id": "ff5b21fe",
   "metadata": {},
   "source": [
    "## Ecosystem map (non-exhaustive)\n",
    "- **Data/Science:** NumPy, pandas, SciPy, Matplotlib, Seaborn, scikit‑learn, Biopython.\n",
    "- **Web:** Flask, Django, FastAPI (APIs).\n",
    "- **Automation/Scraping:** Requests, BeautifulSoup, Selenium.\n",
    "- **Visualization:** Plotly, Bokeh, Altair.\n",
    "\n",
    "*Library vs Framework:* a **framework** calls **your** code (inversion of control). A **library** you call."
   ]
  },
  {
   "cell_type": "markdown",
   "id": "9b59afa9",
   "metadata": {},
   "source": [
    "### Optional: install common data stack (run if needed)"
   ]
  },
  {
   "cell_type": "code",
   "execution_count": 7,
   "id": "f8235054",
   "metadata": {},
   "outputs": [
    {
     "name": "stdout",
     "output_type": "stream",
     "text": [
      "Tip: Install above packages in your own environment when needed.\n"
     ]
    }
   ],
   "source": [
    "# If running locally with internet, uncomment:\n",
    "# !pip -q install numpy pandas matplotlib seaborn scikit-learn biopython\n",
    "print(\"Tip: Install above packages in your own environment when needed.\")"
   ]
  },
  {
   "cell_type": "markdown",
   "id": "99448668",
   "metadata": {},
   "source": [
    "### Minimal Flask API (web) — optional demo"
   ]
  },
  {
   "cell_type": "code",
   "execution_count": 8,
   "id": "ccbbc679",
   "metadata": {},
   "outputs": [
    {
     "name": "stdout",
     "output_type": "stream",
     "text": [
      "\n",
      "from flask import Flask, jsonify\n",
      "app = Flask(__name__)\n",
      "\n",
      "@app.get(\"/ping\")\n",
      "def ping():\n",
      "    return jsonify(ok=True, message=\"pong\")\n",
      "\n",
      "if __name__ == \"__main__\":\n",
      "    app.run(debug=True)\n",
      "\n"
     ]
    }
   ],
   "source": [
    "# Optional minimal Flask demo (requires: pip install flask, then run in a terminal)\n",
    "demo = r\"\"\"\n",
    "from flask import Flask, jsonify\n",
    "app = Flask(__name__)\n",
    "\n",
    "@app.get(\"/ping\")\n",
    "def ping():\n",
    "    return jsonify(ok=True, message=\"pong\")\n",
    "\n",
    "if __name__ == \"__main__\":\n",
    "    app.run(debug=True)\n",
    "\"\"\"\n",
    "print(demo)"
   ]
  },
  {
   "cell_type": "markdown",
   "id": "9564b8a6",
   "metadata": {},
   "source": [
    "### Exercise\n",
    "- Pick one framework from the list, read its docs, and sketch a minimal \"hello world\" example in a new cell."
   ]
  },
  {
   "cell_type": "markdown",
   "id": "4b509ad0",
   "metadata": {},
   "source": [
    "# 🌐 Python Frameworks — Expanded\n",
    "\n",
    "Python has a *rich ecosystem* of frameworks that help developers avoid reinventing the wheel.  \n",
    "Below we expand with categories, examples, and short demo snippets.\n",
    "\n",
    "---\n",
    "## 1) Scientific & Data Analysis\n",
    "- **NumPy**: foundation for fast array/matrix operations.\n",
    "- **pandas**: data frames for tabular data, CSV/Excel/SQL I/O.\n",
    "- **SciPy**: scientific computing (stats, signal processing, optimization).\n",
    "- **Matplotlib/Seaborn/Plotly**: visualization libraries.\n",
    "- **Biopython**: bioinformatics (parsing FASTA/GenBank, sequence analysis).\n",
    "\n",
    "**Example:** Using pandas + matplotlib to summarize data."
   ]
  },
  {
   "cell_type": "code",
   "execution_count": 9,
   "id": "8433bae1",
   "metadata": {},
   "outputs": [
    {
     "name": "stdout",
     "output_type": "stream",
     "text": [
      "  Sample  Reads\n",
      "0     S1   1000\n",
      "1     S2   1500\n",
      "2     S3   1200\n",
      "3     S4    900\n"
     ]
    },
    {
     "name": "stderr",
     "output_type": "stream",
     "text": [
      "/var/folders/js/gsdvs9d11jd4g5m9s3xj33c80000gn/T/ipykernel_94514/1942722721.py:11: UserWarning: FigureCanvasAgg is non-interactive, and thus cannot be shown\n",
      "  plt.show()\n"
     ]
    }
   ],
   "source": [
    "import pandas as pd\n",
    "import matplotlib.pyplot as plt\n",
    "\n",
    "df = pd.DataFrame({\n",
    "    \"Sample\": [\"S1\",\"S2\",\"S3\",\"S4\"],\n",
    "    \"Reads\": [1000, 1500, 1200, 900]\n",
    "})\n",
    "print(df)\n",
    "df.plot(x=\"Sample\", y=\"Reads\", kind=\"bar\", legend=False, title=\"Read counts\")\n",
    "plt.ylabel(\"Reads\")\n",
    "plt.show()"
   ]
  },
  {
   "cell_type": "markdown",
   "id": "8fcd55da",
   "metadata": {},
   "source": [
    "---\n",
    "## 2) Machine Learning & AI\n",
    "- **scikit‑learn**: classical ML (classification, regression, clustering, preprocessing).\n",
    "- **TensorFlow / PyTorch**: deep learning frameworks.\n",
    "- **XGBoost / LightGBM / CatBoost**: gradient boosting models.\n",
    "\n",
    "**Example:** Tiny scikit‑learn classification."
   ]
  },
  {
   "cell_type": "code",
   "execution_count": 10,
   "id": "3f06b6ab",
   "metadata": {},
   "outputs": [
    {
     "name": "stdout",
     "output_type": "stream",
     "text": [
      "Accuracy: 0.9736842105263158\n"
     ]
    }
   ],
   "source": [
    "from sklearn.datasets import load_iris\n",
    "from sklearn.model_selection import train_test_split\n",
    "from sklearn.tree import DecisionTreeClassifier\n",
    "\n",
    "X, y = load_iris(return_X_y=True)\n",
    "X_train, X_test, y_train, y_test = train_test_split(X, y, test_size=0.25, random_state=0)\n",
    "\n",
    "clf = DecisionTreeClassifier()\n",
    "clf.fit(X_train, y_train)\n",
    "print(\"Accuracy:\", clf.score(X_test, y_test))"
   ]
  },
  {
   "cell_type": "markdown",
   "id": "dc73474f",
   "metadata": {},
   "source": [
    "---\n",
    "## 3) Web Development\n",
    "- **Flask**: lightweight web micro‑framework.\n",
    "- **Django**: full‑stack framework with ORM, admin, templates.\n",
    "- **FastAPI**: modern, async, auto‑docs (OpenAPI/Swagger).\n",
    "\n",
    "**Example:** Minimal FastAPI app (read‑only code snippet)."
   ]
  },
  {
   "cell_type": "code",
   "execution_count": 11,
   "id": "3ae98630",
   "metadata": {},
   "outputs": [
    {
     "name": "stdout",
     "output_type": "stream",
     "text": [
      "\n",
      "from fastapi import FastAPI\n",
      "\n",
      "app = FastAPI()\n",
      "\n",
      "@app.get(\"/\")\n",
      "def read_root():\n",
      "    return {\"msg\": \"Hello, FastAPI\"}\n",
      "\n",
      "# Run with: uvicorn filename:app --reload\n",
      "\n"
     ]
    }
   ],
   "source": [
    "demo = r\"\"\"\n",
    "from fastapi import FastAPI\n",
    "\n",
    "app = FastAPI()\n",
    "\n",
    "@app.get(\"/\")\n",
    "def read_root():\n",
    "    return {\"msg\": \"Hello, FastAPI\"}\n",
    "\n",
    "# Run with: uvicorn filename:app --reload\n",
    "\"\"\"\n",
    "print(demo)"
   ]
  },
  {
   "cell_type": "markdown",
   "id": "0819cf3b",
   "metadata": {},
   "source": [
    "---\n",
    "## 4) Automation, Data Collection & Scripting\n",
    "- **Requests**: HTTP client for APIs and web requests.\n",
    "- **BeautifulSoup / lxml**: HTML/XML parsing.\n",
    "- **Selenium**: browser automation for scraping/testing.\n",
    "- **Typer / Click / argparse**: CLI frameworks.\n",
    "\n",
    "**Example:** Fetch data with requests (if internet available)."
   ]
  },
  {
   "cell_type": "code",
   "execution_count": 12,
   "id": "0c52cfc8",
   "metadata": {},
   "outputs": [
    {
     "name": "stdout",
     "output_type": "stream",
     "text": [
      "Status: 200\n",
      "JSON keys: ['args', 'headers', 'origin', 'url']\n"
     ]
    }
   ],
   "source": [
    "import requests\n",
    "url = \"https://httpbin.org/get\"\n",
    "try:\n",
    "    r = requests.get(url, timeout=5)\n",
    "    print(\"Status:\", r.status_code)\n",
    "    print(\"JSON keys:\", list(r.json().keys()))\n",
    "except Exception as e:\n",
    "    print(\"HTTP request failed (likely no internet):\", e)"
   ]
  },
  {
   "cell_type": "markdown",
   "id": "17f6d1a8",
   "metadata": {},
   "source": [
    "---\n",
    "## 5) Visualization Dashboards\n",
    "- **Dash (Plotly)**: build interactive dashboards with pure Python.\n",
    "- **Streamlit**: turn scripts into web apps with widgets quickly.\n",
    "- **Bokeh / Panel**: interactive plotting.\n",
    "\n",
    "**Example:** Minimal Streamlit app (code snippet)."
   ]
  },
  {
   "cell_type": "code",
   "execution_count": 13,
   "id": "a3e5545f",
   "metadata": {},
   "outputs": [
    {
     "name": "stdout",
     "output_type": "stream",
     "text": [
      "\n",
      "import streamlit as st\n",
      "import pandas as pd\n",
      "\n",
      "st.title(\"Demo App\")\n",
      "df = pd.DataFrame({\"x\": [1,2,3], \"y\":[10,20,30]})\n",
      "st.line_chart(df)\n",
      "\n"
     ]
    }
   ],
   "source": [
    "demo = r\"\"\"\n",
    "import streamlit as st\n",
    "import pandas as pd\n",
    "\n",
    "st.title(\"Demo App\")\n",
    "df = pd.DataFrame({\"x\": [1,2,3], \"y\":[10,20,30]})\n",
    "st.line_chart(df)\n",
    "\"\"\"\n",
    "print(demo)"
   ]
  },
  {
   "cell_type": "markdown",
   "id": "19f572c6",
   "metadata": {},
   "source": [
    "---\n",
    "## 6) Bioinformatics‑Specific Frameworks\n",
    "- **Biopython**: parsing sequences, BLAST wrappers, alignments.\n",
    "- **scikit‑bio**: sequence analysis, statistics for biology.\n",
    "- **pybedtools / pysam**: genomic intervals, SAM/BAM parsing.\n",
    "\n",
    "**Example:** FASTA parsing with Biopython (if installed)."
   ]
  },
  {
   "cell_type": "code",
   "execution_count": 14,
   "id": "5cf12233",
   "metadata": {},
   "outputs": [
    {
     "name": "stdout",
     "output_type": "stream",
     "text": [
      "\u001b[33mDEPRECATION: Loading egg at /opt/homebrew/lib/python3.12/site-packages/pypls-1.0.3-py3.12-macosx-15.0-arm64.egg is deprecated. pip 25.1 will enforce this behaviour change. A possible replacement is to use pip for package installation. Discussion can be found at https://github.com/pypa/pip/issues/12330\u001b[0m\u001b[33m\n",
      "\u001b[0mRequirement already satisfied: biopython in /opt/homebrew/lib/python3.12/site-packages (1.83)\n",
      "Requirement already satisfied: numpy in /opt/homebrew/lib/python3.12/site-packages (from biopython) (1.26.4)\n"
     ]
    }
   ],
   "source": [
    "# Install Biopython (Colab usually doesn't have it preinstalled)\n",
    "!pip install biopython"
   ]
  },
  {
   "cell_type": "code",
   "execution_count": 15,
   "id": "fbd92b47",
   "metadata": {},
   "outputs": [
    {
     "name": "stdout",
     "output_type": "stream",
     "text": [
      "seq1 len 10 GC% 50.0\n",
      "seq2 len 10 GC% 40.0\n"
     ]
    }
   ],
   "source": [
    "# Example FASTA string (no need for external file)\n",
    "from io import StringIO\n",
    "from Bio import SeqIO\n",
    "\n",
    "fasta_data = \"\"\">seq1\n",
    "ATGCGTACGT\n",
    ">seq2\n",
    "ATTTGGCCAA\n",
    "\"\"\"\n",
    "\n",
    "handle = StringIO(fasta_data)\n",
    "records = list(SeqIO.parse(handle, \"fasta\"))\n",
    "for rec in records:\n",
    "    seq = str(rec.seq)\n",
    "    gc = (seq.count(\"G\") + seq.count(\"C\")) / len(seq) * 100\n",
    "    print(rec.id, \"len\", len(seq), \"GC%\", round(gc,1))"
   ]
  },
  {
   "cell_type": "markdown",
   "id": "0126afd9",
   "metadata": {},
   "source": [
    "---\n",
    "## 7) Use Case Scenarios\n",
    "\n",
    "- **Data Scientist**: Use `pandas` + `scikit‑learn` + `matplotlib` for analysis + ML.\n",
    "- **Web Developer**: Build APIs with `FastAPI` or full sites with `Django`.\n",
    "- **Bioinformatician**: Parse sequences with `Biopython`, analyze with `NumPy/pandas`, visualize with `Seaborn`.\n",
    "- **Automation Engineer**: Write a scraper with `Requests` + `BeautifulSoup`, automate tasks with `Selenium`.\n",
    "- **Educator**: Share interactive lessons via `Jupyter`, build dashboards in `Streamlit` for students.\n",
    "\n",
    "> The right framework depends on **problem domain** and **scalability requirements**."
   ]
  },
  {
   "cell_type": "markdown",
   "id": "bd1744fd",
   "metadata": {},
   "source": [
    "### Exercise Ideas\n",
    "1. Use `pandas` to compute mean/median of a numeric column from a CSV file.\n",
    "2. Train a simple scikit‑learn model on any toy dataset.\n",
    "3. Write a minimal Flask or FastAPI snippet that returns `{\"ok\": true}`.\n",
    "4. Parse a short FASTA file with Biopython (or write your own parser if Biopython not available)."
   ]
  },
  {
   "cell_type": "markdown",
   "id": "1f448dae",
   "metadata": {},
   "source": [
    "# 🔧 Python Frameworks — Expanded Guide & Use Cases\n",
    "\n",
    "**Goal:** Get a practical map of the most-used Python frameworks and when to pick each.  \n",
    "We'll cover **web APIs**, **data science/ML**, **bioinformatics**, **automation/scraping**, **CLI apps**, and **testing/packaging**—with runnable mini-demos when possible."
   ]
  },
  {
   "cell_type": "markdown",
   "id": "f8315529",
   "metadata": {},
   "source": [
    "## 🧭 How to choose quickly\n",
    "\n",
    "- **Web APIs / web apps** → *Flask* (micro), *FastAPI* (typed & fast), *Django* (batteries included).  \n",
    "- **Data/ML** → *NumPy*, *pandas*, *scikit‑learn*, *matplotlib/plotly*.  \n",
    "- **Bioinformatics** → *Biopython*, *scikit‑bio*, *pysam*.  \n",
    "- **Automation/Scraping** → *Requests*, *BeautifulSoup*, *Selenium/Playwright*.  \n",
    "- **CLI tools** → *argparse* (stdlib), *Typer* (fast & typed), *Click* (rich).  \n",
    "- **Testing** → *pytest*, *unittest* (stdlib).  \n",
    "- **Packaging** → *pip/setuptools*, *Poetry*, *Hatch*."
   ]
  },
  {
   "cell_type": "markdown",
   "id": "3180399c",
   "metadata": {},
   "source": [
    "## 🌐 Web frameworks\n",
    "### Flask — micro, flexible (hello world API)"
   ]
  },
  {
   "cell_type": "code",
   "execution_count": 16,
   "id": "fe3796c4",
   "metadata": {},
   "outputs": [
    {
     "name": "stdout",
     "output_type": "stream",
     "text": [
      "\n",
      "from flask import Flask, jsonify, request\n",
      "\n",
      "app = Flask(__name__)\n",
      "\n",
      "@app.get('/ping')\n",
      "def ping():\n",
      "    return jsonify(ok=True, message='pong')\n",
      "\n",
      "@app.post('/echo')\n",
      "def echo():\n",
      "    data = request.get_json() or {}\n",
      "    return jsonify(received=data)\n",
      "\n",
      "if __name__ == '__main__':\n",
      "    app.run(debug=True)\n",
      "\n",
      "\n",
      "Run:  pip install flask  &&  python app.py\n"
     ]
    }
   ],
   "source": [
    "flask_demo = r\"\"\"\n",
    "from flask import Flask, jsonify, request\n",
    "\n",
    "app = Flask(__name__)\n",
    "\n",
    "@app.get('/ping')\n",
    "def ping():\n",
    "    return jsonify(ok=True, message='pong')\n",
    "\n",
    "@app.post('/echo')\n",
    "def echo():\n",
    "    data = request.get_json() or {}\n",
    "    return jsonify(received=data)\n",
    "\n",
    "if __name__ == '__main__':\n",
    "    app.run(debug=True)\n",
    "\"\"\"\n",
    "print(flask_demo)\n",
    "print(\"\\nRun:  pip install flask  &&  python app.py\")"
   ]
  },
  {
   "cell_type": "markdown",
   "id": "11a4ce0b",
   "metadata": {},
   "source": [
    "### FastAPI — type hints, auto docs (OpenAPI/Swagger)"
   ]
  },
  {
   "cell_type": "code",
   "execution_count": 17,
   "id": "5b02ed3a",
   "metadata": {},
   "outputs": [
    {
     "name": "stdout",
     "output_type": "stream",
     "text": [
      "\n",
      "from fastapi import FastAPI\n",
      "from pydantic import BaseModel\n",
      "\n",
      "class Item(BaseModel):\n",
      "    name: str\n",
      "    price: float\n",
      "\n",
      "app = FastAPI()\n",
      "\n",
      "@app.get(\"/ping\")\n",
      "def ping():\n",
      "    return {\"ok\": True, \"message\": \"pong\"}\n",
      "\n",
      "@app.post(\"/items\")\n",
      "def create_item(item: Item):\n",
      "    return {\"created\": item}\n",
      "\n",
      "# Run (development):\n",
      "#   pip install fastapi uvicorn\n",
      "#   uvicorn main:app --reload\n",
      "# Docs at: http://127.0.0.1:8000/docs\n",
      "\n"
     ]
    }
   ],
   "source": [
    "fastapi_demo = r\"\"\"\n",
    "from fastapi import FastAPI\n",
    "from pydantic import BaseModel\n",
    "\n",
    "class Item(BaseModel):\n",
    "    name: str\n",
    "    price: float\n",
    "\n",
    "app = FastAPI()\n",
    "\n",
    "@app.get(\"/ping\")\n",
    "def ping():\n",
    "    return {\"ok\": True, \"message\": \"pong\"}\n",
    "\n",
    "@app.post(\"/items\")\n",
    "def create_item(item: Item):\n",
    "    return {\"created\": item}\n",
    "\n",
    "# Run (development):\n",
    "#   pip install fastapi uvicorn\n",
    "#   uvicorn main:app --reload\n",
    "# Docs at: http://127.0.0.1:8000/docs\n",
    "\"\"\"\n",
    "print(fastapi_demo)"
   ]
  },
  {
   "cell_type": "markdown",
   "id": "43051509",
   "metadata": {},
   "source": [
    "### Django — full‑stack batteries (ORM, auth, admin, templates)"
   ]
  },
  {
   "cell_type": "code",
   "execution_count": 18,
   "id": "d9b4fb74",
   "metadata": {},
   "outputs": [
    {
     "name": "stdout",
     "output_type": "stream",
     "text": [
      "\n",
      "# Django quickstart (terminal commands):\n",
      "pip install django\n",
      "django-admin startproject mysite\n",
      "cd mysite\n",
      "python manage.py runserver\n",
      "# Visit http://127.0.0.1:8000/ — admin panel available after creating a superuser:\n",
      "python manage.py createsuperuser\n",
      "\n"
     ]
    }
   ],
   "source": [
    "django_notes = \"\"\"\n",
    "# Django quickstart (terminal commands):\n",
    "pip install django\n",
    "django-admin startproject mysite\n",
    "cd mysite\n",
    "python manage.py runserver\n",
    "# Visit http://127.0.0.1:8000/ — admin panel available after creating a superuser:\n",
    "python manage.py createsuperuser\n",
    "\"\"\"\n",
    "print(django_notes)"
   ]
  },
  {
   "cell_type": "markdown",
   "id": "4ab7a976",
   "metadata": {},
   "source": [
    "## 📊 Data / ML stack (runnable mini‑demos)"
   ]
  },
  {
   "cell_type": "code",
   "execution_count": 19,
   "id": "55f2385d",
   "metadata": {},
   "outputs": [
    {
     "name": "stdout",
     "output_type": "stream",
     "text": [
      "NumPy: [11. 22. 33.] 140.0\n"
     ]
    }
   ],
   "source": [
    "# NumPy: vectorized math\n",
    "try:\n",
    "    import numpy as np\n",
    "    a = np.array([1,2,3], dtype=float)\n",
    "    b = np.array([10,20,30], dtype=float)\n",
    "    print(\"NumPy:\", a + b, (a*b).sum())\n",
    "except Exception as e:\n",
    "    print(\"NumPy not available:\", e)"
   ]
  },
  {
   "cell_type": "code",
   "execution_count": 20,
   "id": "b516b7bc",
   "metadata": {},
   "outputs": [
    {
     "data": {
      "application/vnd.microsoft.datawrangler.viewer.v0+json": {
       "columns": [
        {
         "name": "index",
         "rawType": "int64",
         "type": "integer"
        },
        {
         "name": "sample",
         "rawType": "object",
         "type": "string"
        },
        {
         "name": "reads",
         "rawType": "int64",
         "type": "integer"
        }
       ],
       "ref": "307d7ac4-9223-40ea-8293-433dd9746d83",
       "rows": [
        [
         "0",
         "S1",
         "1000"
        ],
        [
         "1",
         "S2",
         "1200"
        ],
        [
         "2",
         "S3",
         "900"
        ]
       ],
       "shape": {
        "columns": 2,
        "rows": 3
       }
      },
      "text/html": [
       "<div>\n",
       "<style scoped>\n",
       "    .dataframe tbody tr th:only-of-type {\n",
       "        vertical-align: middle;\n",
       "    }\n",
       "\n",
       "    .dataframe tbody tr th {\n",
       "        vertical-align: top;\n",
       "    }\n",
       "\n",
       "    .dataframe thead th {\n",
       "        text-align: right;\n",
       "    }\n",
       "</style>\n",
       "<table border=\"1\" class=\"dataframe\">\n",
       "  <thead>\n",
       "    <tr style=\"text-align: right;\">\n",
       "      <th></th>\n",
       "      <th>sample</th>\n",
       "      <th>reads</th>\n",
       "    </tr>\n",
       "  </thead>\n",
       "  <tbody>\n",
       "    <tr>\n",
       "      <th>0</th>\n",
       "      <td>S1</td>\n",
       "      <td>1000</td>\n",
       "    </tr>\n",
       "    <tr>\n",
       "      <th>1</th>\n",
       "      <td>S2</td>\n",
       "      <td>1200</td>\n",
       "    </tr>\n",
       "    <tr>\n",
       "      <th>2</th>\n",
       "      <td>S3</td>\n",
       "      <td>900</td>\n",
       "    </tr>\n",
       "  </tbody>\n",
       "</table>\n",
       "</div>"
      ],
      "text/plain": [
       "  sample  reads\n",
       "0     S1   1000\n",
       "1     S2   1200\n",
       "2     S3    900"
      ]
     },
     "metadata": {},
     "output_type": "display_data"
    },
    {
     "name": "stdout",
     "output_type": "stream",
     "text": [
      "mean reads: 1033.3333333333333\n"
     ]
    }
   ],
   "source": [
    "# pandas: tabular data\n",
    "try:\n",
    "    import pandas as pd\n",
    "    df = pd.DataFrame({\n",
    "        \"sample\": [\"S1\",\"S2\",\"S3\"],\n",
    "        \"reads\": [1000, 1200, 900]\n",
    "    })\n",
    "    display(df)\n",
    "    print(\"mean reads:\", df[\"reads\"].mean())\n",
    "except Exception as e:\n",
    "    print(\"pandas not available:\", e)"
   ]
  },
  {
   "cell_type": "code",
   "execution_count": 21,
   "id": "a4a91421",
   "metadata": {},
   "outputs": [
    {
     "name": "stdout",
     "output_type": "stream",
     "text": [
      "coef: [2.] intercept: 0.0\n",
      "predict(6): 12.0\n"
     ]
    }
   ],
   "source": [
    "# scikit-learn: simple model\n",
    "try:\n",
    "    from sklearn.linear_model import LinearRegression\n",
    "    import numpy as np\n",
    "    X = np.array([[1],[2],[3],[4],[5]])\n",
    "    y = np.array([2,4,6,8,10])  # y = 2x\n",
    "    model = LinearRegression().fit(X, y)\n",
    "    print(\"coef:\", model.coef_, \"intercept:\", model.intercept_)\n",
    "    print(\"predict(6):\", model.predict([[6]])[0])\n",
    "except Exception as e:\n",
    "    print(\"scikit-learn not available:\", e)"
   ]
  },
  {
   "cell_type": "code",
   "execution_count": 22,
   "id": "ecf87acb",
   "metadata": {},
   "outputs": [
    {
     "name": "stderr",
     "output_type": "stream",
     "text": [
      "/var/folders/js/gsdvs9d11jd4g5m9s3xj33c80000gn/T/ipykernel_94514/899046111.py:9: UserWarning: FigureCanvasAgg is non-interactive, and thus cannot be shown\n",
      "  plt.show()\n"
     ]
    }
   ],
   "source": [
    "# matplotlib: single chart (no styling)\n",
    "try:\n",
    "    import matplotlib.pyplot as plt\n",
    "    xs = [1,2,3,4,5]\n",
    "    ys = [1,4,9,16,25]\n",
    "    plt.plot(xs, ys, marker=\"o\")\n",
    "    plt.title(\"y = x^2\")\n",
    "    plt.xlabel(\"x\"); plt.ylabel(\"y\")\n",
    "    plt.show()\n",
    "except Exception as e:\n",
    "    print(\"matplotlib not available:\", e)"
   ]
  },
  {
   "cell_type": "markdown",
   "id": "b4a80740",
   "metadata": {},
   "source": [
    "## 🧬 Bioinformatics use cases\n",
    "Common workflows: parse files (FASTA/FASTQ/GFF), compute sequence stats, map reads, annotate genomes, run pipelines."
   ]
  },
  {
   "cell_type": "code",
   "execution_count": 23,
   "id": "91323b9c",
   "metadata": {},
   "outputs": [
    {
     "name": "stdout",
     "output_type": "stream",
     "text": [
      "seq1 len= 10 GC%= 50.0\n",
      "seq2 len= 10 GC%= 40.0\n"
     ]
    }
   ],
   "source": [
    "# Biopython: FASTA parse + GC% (if installed)\n",
    "try:\n",
    "    from Bio import SeqIO\n",
    "    recs = list(SeqIO.parse(\"tiny.fasta\", \"fasta\")) if __import__('pathlib').Path(\"tiny.fasta\").exists() else []\n",
    "    if not recs:\n",
    "        open(\"tiny.fasta\",\"w\").write(\">seq1\\nATGCGTACGT\\n>seq2\\nATTTGGCCAA\\n\")\n",
    "        recs = list(SeqIO.parse(\"tiny.fasta\", \"fasta\"))\n",
    "    for r in recs:\n",
    "        seq = str(r.seq).upper()\n",
    "        gc = (seq.count(\"G\")+seq.count(\"C\"))/len(seq)\n",
    "        print(r.id, \"len=\", len(seq), \"GC%=\", round(gc*100,1))\n",
    "except Exception as e:\n",
    "    print(\"Biopython not available:\", e)"
   ]
  },
  {
   "cell_type": "code",
   "execution_count": 24,
   "id": "449b0b4f",
   "metadata": {},
   "outputs": [
    {
     "name": "stdout",
     "output_type": "stream",
     "text": [
      "Hamming distance: 1\n"
     ]
    }
   ],
   "source": [
    "# scikit-bio: simple distance (if installed)\n",
    "try:\n",
    "    import skbio\n",
    "    s1 = skbio.DNA(\"ACGT\")\n",
    "    s2 = skbio.DNA(\"AGGT\")\n",
    "    # Hamming distance: positions that differ\n",
    "    d = sum(a!=b for a,b in zip(str(s1), str(s2)))\n",
    "    print(\"Hamming distance:\", d)\n",
    "except Exception as e:\n",
    "    print(\"scikit-bio not available:\", e)"
   ]
  },
  {
   "cell_type": "markdown",
   "id": "b97ec662",
   "metadata": {},
   "source": [
    "## 🤖 Automation & Scraping"
   ]
  },
  {
   "cell_type": "code",
   "execution_count": 25,
   "id": "e4865616",
   "metadata": {},
   "outputs": [
    {
     "name": "stdout",
     "output_type": "stream",
     "text": [
      "Parsed items: ['S1: 1,000', 'S2: 1,200']\n"
     ]
    }
   ],
   "source": [
    "# Requests + BeautifulSoup example (parse a tiny HTML string)\n",
    "html = '''\n",
    "<html><body>\n",
    "  <h1>Lab Results</h1>\n",
    "  <ul>\n",
    "    <li class=\"sample\">S1: 1,000</li>\n",
    "    <li class=\"sample\">S2: 1,200</li>\n",
    "  </ul>\n",
    "</body></html>\n",
    "'''\n",
    "try:\n",
    "    from bs4 import BeautifulSoup\n",
    "    soup = BeautifulSoup(html, \"html.parser\")\n",
    "    items = [li.text for li in soup.select(\"li.sample\")]\n",
    "    print(\"Parsed items:\", items)\n",
    "except Exception as e:\n",
    "    print(\"BeautifulSoup not available:\", e)"
   ]
  },
  {
   "cell_type": "markdown",
   "id": "58d8264d",
   "metadata": {},
   "source": [
    "## 🖥️ Command‑Line Interfaces (CLI)"
   ]
  },
  {
   "cell_type": "code",
   "execution_count": 26,
   "id": "bb9ae76b",
   "metadata": {},
   "outputs": [
    {
     "name": "stdout",
     "output_type": "stream",
     "text": [
      "Try: main(['--name','Alice']) -> Hello, Alice!\n"
     ]
    }
   ],
   "source": [
    "# argparse (stdlib) — runnable demo\n",
    "import argparse, sys\n",
    "\n",
    "def main(argv=None):\n",
    "    parser = argparse.ArgumentParser(prog=\"hello\")\n",
    "    parser.add_argument(\"--name\", default=\"world\")\n",
    "    args = parser.parse_args(argv)\n",
    "    print(f\"Hello, {args.name}!\")\n",
    "\n",
    "print(\"Try: main(['--name','Alice']) ->\", end=\" \")\n",
    "main(['--name','Alice'])"
   ]
  },
  {
   "cell_type": "code",
   "execution_count": 27,
   "id": "7c2c9c04",
   "metadata": {},
   "outputs": [
    {
     "name": "stdout",
     "output_type": "stream",
     "text": [
      "\n",
      "import typer\n",
      "\n",
      "app = typer.Typer()\n",
      "\n",
      "@app.command()\n",
      "def greet(name: str = \"world\"):\n",
      "    print(f\"Hello, {name}!\")\n",
      "\n",
      "if __name__ == \"__main__\":\n",
      "    app()\n",
      "# Run: pip install typer[all] && python app.py greet --name Alice\n",
      "\n"
     ]
    }
   ],
   "source": [
    "# Typer — typed CLI (if installed)\n",
    "typer_demo = r\"\"\"\n",
    "import typer\n",
    "\n",
    "app = typer.Typer()\n",
    "\n",
    "@app.command()\n",
    "def greet(name: str = \"world\"):\n",
    "    print(f\"Hello, {name}!\")\n",
    "\n",
    "if __name__ == \"__main__\":\n",
    "    app()\n",
    "# Run: pip install typer[all] && python app.py greet --name Alice\n",
    "\"\"\"\n",
    "print(typer_demo)"
   ]
  },
  {
   "cell_type": "markdown",
   "id": "3eebd8b5",
   "metadata": {},
   "source": [
    "## ✅ Testing & 📦 Packaging"
   ]
  },
  {
   "cell_type": "code",
   "execution_count": 28,
   "id": "b8d2cb92",
   "metadata": {},
   "outputs": [
    {
     "name": "stdout",
     "output_type": "stream",
     "text": [
      "\n",
      "Testing:\n",
      "  - pytest: pip install pytest; create tests/test_x.py; run `pytest -q`\n",
      "  - unittest: built-in; good for small suites\n",
      "\n",
      "Packaging:\n",
      "  - Minimal: pyproject.toml + setuptools (PEP 517/518)\n",
      "  - Poetry: `pip install poetry` then `poetry init`, `poetry add <pkg>`\n",
      "  - Wheels: `python -m build` (pip install build)\n",
      "\n",
      "CI:\n",
      "  - GitHub Actions: run tests on push; publish to PyPI on tag.\n",
      "\n"
     ]
    }
   ],
   "source": [
    "testing_notes = \"\"\"\n",
    "Testing:\n",
    "  - pytest: pip install pytest; create tests/test_x.py; run `pytest -q`\n",
    "  - unittest: built-in; good for small suites\n",
    "\n",
    "Packaging:\n",
    "  - Minimal: pyproject.toml + setuptools (PEP 517/518)\n",
    "  - Poetry: `pip install poetry` then `poetry init`, `poetry add <pkg>`\n",
    "  - Wheels: `python -m build` (pip install build)\n",
    "\n",
    "CI:\n",
    "  - GitHub Actions: run tests on push; publish to PyPI on tag.\n",
    "\"\"\"\n",
    "print(testing_notes)"
   ]
  },
  {
   "cell_type": "markdown",
   "id": "c1a7b75f",
   "metadata": {},
   "source": [
    "## 🧩 Patterns & When to Pick What\n",
    "- Start **simple**: small scripts with stdlib.  \n",
    "- When exposing features → **CLI** (argparse/Typer).  \n",
    "- When serving results to other apps → **API** (FastAPI/Flask).  \n",
    "- When you need auth/admin/ORM/templates → **Django**.  \n",
    "- Data analysis → **NumPy/pandas/scikit‑learn**; visualize with **matplotlib/plotly**.  \n",
    "- Bio pipelines → combine **Biopython + pandas** and orchestrate with **snakemake/Nextflow** (outside Python).\n",
    "\n",
    "### Exercises\n",
    "1. Turn the Flask or FastAPI snippet into a **/sum?a=..&b=..** endpoint.  \n",
    "2. Read a CSV with pandas and compute **group means**.  \n",
    "3. Parse a FASTA file and compute **GC%** per sequence, save to CSV.  \n",
    "4. Build a small CLI (`hello.py`) with Typer that prints `\"Welcome, <name>\"`.  \n",
    "5. Write a `pytest` test that checks your **/sum** endpoint returns 7 for a=3,b=4 (use `fastapi.testclient` or Flask test client)."
   ]
  },
  {
   "cell_type": "markdown",
   "id": "26f99fdc",
   "metadata": {},
   "source": [
    "### 📦 Optional installs (run in your own environment)"
   ]
  },
  {
   "cell_type": "code",
   "execution_count": 29,
   "id": "c93c6bc1",
   "metadata": {},
   "outputs": [
    {
     "name": "stdout",
     "output_type": "stream",
     "text": [
      "Tip: install needed packages in your environment to run the above demos.\n"
     ]
    }
   ],
   "source": [
    "# Uncomment to install popular stack locally (requires internet)\n",
    "# !pip -q install numpy pandas matplotlib scikit-learn biopython beautifulsoup4 fastapi uvicorn flask typer\n",
    "print(\"Tip: install needed packages in your environment to run the above demos.\")"
   ]
  }
 ],
 "metadata": {
  "kernelspec": {
   "display_name": "Python 3",
   "language": "python",
   "name": "python3"
  },
  "language_info": {
   "codemirror_mode": {
    "name": "ipython",
    "version": 3
   },
   "file_extension": ".py",
   "mimetype": "text/x-python",
   "name": "python",
   "nbconvert_exporter": "python",
   "pygments_lexer": "ipython3",
   "version": "3.12.9"
  }
 },
 "nbformat": 4,
 "nbformat_minor": 5
}
