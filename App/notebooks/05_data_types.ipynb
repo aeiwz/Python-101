{
 "cells": [
  {
   "cell_type": "markdown",
   "id": "69460b2c",
   "metadata": {},
   "source": [
    "# 5. Data Types — Expanded with Bioinformatics Examples (EN)\n",
    "\n",
    "**Goals**\n",
    "- Understand Python's core data types (`int`, `float`, `bool`, `str`, `bytes`, `None`) and when to use each.\n",
    "- Practice conversions and precision choices (`decimal`, `fractions`).\n",
    "- Map bioinformatics data (genomics, transcriptomics, proteomics, metabolomics, microbiome) onto these types.\n",
    "- Run compact domain examples for each omics area."
   ]
  },
  {
   "cell_type": "markdown",
   "id": "adbaefc6",
   "metadata": {},
   "source": [
    "## 1) Core built-ins\n",
    "\n",
    "- **`int`**: arbitrary-precision integers (good for counts, indices, read lengths).\n",
    "- **`float`**: IEEE-754 double (good for measurements: mass, intensity, p-values). Beware rounding.\n",
    "- **`bool`**: truth values (`True/False`) for QC flags.\n",
    "- **`str`**: text; in bio, also used to store sequences `\"ATG...\"` or peptides `\"ACDEFG\"`.\n",
    "- **`bytes`**: raw bytes; useful for FASTQ quality strings or binary formats.\n",
    "- **`None`**: missing value placeholder (e.g., unknown coverage, no hit).\n",
    "\n",
    "> Tip: Prefer `int` for counts (reads, peptides). Use `float` for measurements; if exact decimal is required (e.g., currency-like quantities, or exact mass calculations), consider `decimal.Decimal`."
   ]
  },
  {
   "cell_type": "code",
   "execution_count": 2,
   "id": "abe16e96",
   "metadata": {},
   "outputs": [
    {
     "name": "stdout",
     "output_type": "stream",
     "text": [
      "<class 'int'> <class 'float'> <class 'bool'> <class 'str'> <class 'bytes'> True\n"
     ]
    }
   ],
   "source": [
    "# Quick sampler\n",
    "a: int = 42\n",
    "b: float = 3.14159\n",
    "c: bool = True\n",
    "d: str = \"ATGC\"\n",
    "e: bytes = b\"@ABC\"            # arbitrary bytes (FASTQ qualities are ASCII-coded)\n",
    "n = None\n",
    "\n",
    "print(type(a), type(b), type(c), type(d), type(e), n is None)"
   ]
  },
  {
   "cell_type": "markdown",
   "id": "668a2971",
   "metadata": {},
   "source": [
    "## 2) Numeric precision: `float` vs `decimal` vs `fractions`\n",
    "\n",
    "- **float**: fast, approximate; use for intensities, expression values, probabilities.\n",
    "- **decimal.Decimal**: exact decimal arithmetic (configurable precision); useful for precise mass sums (didactic).\n",
    "- **fractions.Fraction**: rational numbers; nice for exact ratios (e.g., coverage fractions in toy demos)."
   ]
  },
  {
   "cell_type": "code",
   "execution_count": 3,
   "id": "68f1514b",
   "metadata": {},
   "outputs": [
    {
     "name": "stdout",
     "output_type": "stream",
     "text": [
      "float 0.1+0.2 = 0.30000000000000004\n",
      "decimal 0.1+0.2 = 0.3\n",
      "fraction: 5/6 = 0.8333333333333334\n"
     ]
    }
   ],
   "source": [
    "from decimal import Decimal, getcontext\n",
    "from fractions import Fraction\n",
    "\n",
    "# Float rounding surprise\n",
    "x = 0.1 + 0.2\n",
    "print(\"float 0.1+0.2 =\", x)   # not exactly 0.3\n",
    "\n",
    "# Decimal with higher precision\n",
    "getcontext().prec = 28\n",
    "xd = Decimal(\"0.1\") + Decimal(\"0.2\")\n",
    "print(\"decimal 0.1+0.2 =\", xd)\n",
    "\n",
    "# Rational fraction\n",
    "f = Fraction(2, 3) + Fraction(1, 6)  # 2/3 + 1/6 = 5/6\n",
    "print(\"fraction:\", f, \"=\", float(f))"
   ]
  },
  {
   "cell_type": "markdown",
   "id": "3104170b",
   "metadata": {},
   "source": [
    "## 3) `str` for sequences (Genomics & Transcriptomics)\n",
    "\n",
    "Strings are perfect for DNA/RNA sequences (A/C/G/T/U). Use `.count`, slicing, `.replace`, and membership tests."
   ]
  },
  {
   "cell_type": "code",
   "execution_count": 4,
   "id": "4632b3b4",
   "metadata": {},
   "outputs": [
    {
     "name": "stdout",
     "output_type": "stream",
     "text": [
      "DNA: ATGCGTACGT | RNA: AUGCGUACGU | GC%: 50.0\n",
      "3-mers: ['ATG', 'TGC', 'GCG', 'CGT', 'GTA'] ... total: 8\n"
     ]
    }
   ],
   "source": [
    "dna: str = \"ATGCGTACGT\"\n",
    "rna: str = dna.replace(\"T\", \"U\")\n",
    "gc = (dna.count(\"G\") + dna.count(\"C\")) / len(dna)\n",
    "print(\"DNA:\", dna, \"| RNA:\", rna, \"| GC%:\", round(gc*100, 1))\n",
    "\n",
    "# k-mer (k=3) slicing\n",
    "k = 3\n",
    "kmers = [dna[i:i+k] for i in range(0, len(dna)-k+1)]\n",
    "print(\"3-mers:\", kmers[:5], \"... total:\", len(kmers))"
   ]
  },
  {
   "cell_type": "markdown",
   "id": "7feba6c4",
   "metadata": {},
   "source": [
    "## 4) `bytes` for FASTQ qualities (Proteomics/Transcriptomics sequencing)\n",
    "\n",
    "FASTQ encodes per-base quality as ASCII (Phred+33). We can store/read as bytes efficiently."
   ]
  },
  {
   "cell_type": "code",
   "execution_count": 5,
   "id": "bfe8ef5a",
   "metadata": {},
   "outputs": [
    {
     "name": "stdout",
     "output_type": "stream",
     "text": [
      "first 10 scores: [0, 6, 6, 9, 7, 7, 7, 7, 9, 9] min/max: 0 37\n",
      "bytes length: 60 first byte: 33\n"
     ]
    }
   ],
   "source": [
    "# Example: convert a simple quality string to Phred scores\n",
    "qual_str = \"!''*((((***+))%%%++)(%%%%).1***-+*''))**55CCF>>>>>>CCCCCCC65\"\n",
    "# In reality, it's often the same length as the read. We'll just show mapping:\n",
    "def phred33_to_scores(q: str) -> list[int]:\n",
    "    return [ord(ch) - 33 for ch in q]\n",
    "\n",
    "scores = phred33_to_scores(qual_str)\n",
    "print(\"first 10 scores:\", scores[:10], \"min/max:\", min(scores), max(scores))\n",
    "\n",
    "# As bytes (compact)\n",
    "qual_bytes: bytes = qual_str.encode(\"ascii\")\n",
    "print(\"bytes length:\", len(qual_bytes), \"first byte:\", qual_bytes[0])"
   ]
  },
  {
   "cell_type": "markdown",
   "id": "2ba38964",
   "metadata": {},
   "source": [
    "## 5) Transcriptomics: counts (`int`) and TPM (`float`)\n",
    "\n",
    "Counts are integers; normalized values (TPM/FPKM) are floats."
   ]
  },
  {
   "cell_type": "code",
   "execution_count": 6,
   "id": "f8bd710e",
   "metadata": {},
   "outputs": [
    {
     "name": "stdout",
     "output_type": "stream",
     "text": [
      "counts (int): {'g1': 100, 'g2': 400, 'g3': 500}\n",
      "tpm (float): {'g1': 125000.0, 'g2': 250000.0, 'g3': 625000.0}\n"
     ]
    }
   ],
   "source": [
    "# Simple TPM-like normalization (toy)\n",
    "genes = [\"g1\",\"g2\",\"g3\"]\n",
    "counts: dict[str,int] = {\"g1\": 100, \"g2\": 400, \"g3\": 500}\n",
    "length_kb = {\"g1\": 1.0, \"g2\": 2.0, \"g3\": 1.0}  # kilobases\n",
    "\n",
    "# RPK = counts / length_kb\n",
    "rpk = {g: counts[g]/length_kb[g] for g in genes}\n",
    "scale = sum(rpk.values())/1e6 or 1.0\n",
    "tpm = {g: rpk[g]/scale for g in genes}\n",
    "print(\"counts (int):\", counts)\n",
    "print(\"tpm (float):\", {k: round(v,2) for k,v in tpm.items()})"
   ]
  },
  {
   "cell_type": "markdown",
   "id": "ea0cd409",
   "metadata": {},
   "source": [
    "## 6) Proteomics: peptide mass (using `Decimal` for didactic precision)\n",
    "\n",
    "We'll compute a simple monoisotopic mass sum from a peptide string. (Values are illustrative—not a full chemistry engine.)"
   ]
  },
  {
   "cell_type": "code",
   "execution_count": 7,
   "id": "5809f1b9",
   "metadata": {},
   "outputs": [
    {
     "name": "stdout",
     "output_type": "stream",
     "text": [
      "peptide: ACDE mass: 436.12639\n"
     ]
    }
   ],
   "source": [
    "from decimal import Decimal, getcontext\n",
    "getcontext().prec = 28\n",
    "\n",
    "AA_MASS = {\n",
    "    \"A\": Decimal(\"71.03711\"),  \"C\": Decimal(\"103.00919\"),\n",
    "    \"D\": Decimal(\"115.02694\"), \"E\": Decimal(\"129.04259\"),\n",
    "    \"F\": Decimal(\"147.06841\"), \"G\": Decimal(\"57.02146\"),\n",
    "    \"H\": Decimal(\"137.05891\"), \"I\": Decimal(\"113.08406\"),\n",
    "    \"K\": Decimal(\"128.09496\"), \"L\": Decimal(\"113.08406\"),\n",
    "    \"M\": Decimal(\"131.04049\"), \"N\": Decimal(\"114.04293\"),\n",
    "    \"P\": Decimal(\"97.05276\"),  \"Q\": Decimal(\"128.05858\"),\n",
    "    \"R\": Decimal(\"156.10111\"), \"S\": Decimal(\"87.03203\"),\n",
    "    \"T\": Decimal(\"101.04768\"), \"V\": Decimal(\"99.06841\"),\n",
    "    \"W\": Decimal(\"186.07931\"), \"Y\": Decimal(\"163.06333\"),\n",
    "}\n",
    "\n",
    "WATER = Decimal(\"18.01056\")  # add for peptide (N-terminus H, C-terminus OH)\n",
    "\n",
    "def peptide_mass(peptide: str) -> Decimal:\n",
    "    total = WATER\n",
    "    for aa in peptide:\n",
    "        if aa not in AA_MASS:\n",
    "            raise ValueError(f\"Unknown residue: {aa}\")\n",
    "        total += AA_MASS[aa]\n",
    "    return total\n",
    "\n",
    "pep = \"ACDE\"\n",
    "print(\"peptide:\", pep, \"mass:\", peptide_mass(pep))"
   ]
  },
  {
   "cell_type": "markdown",
   "id": "24a734b7",
   "metadata": {},
   "source": [
    "## 7) Metabolomics: m/z (float), intensity (float), TIC/base peak\n",
    "\n",
    "Raw centroided spectra can be represented as parallel lists of m/z and intensities (floats)."
   ]
  },
  {
   "cell_type": "code",
   "execution_count": 8,
   "id": "f26fac7b",
   "metadata": {},
   "outputs": [
    {
     "name": "stdout",
     "output_type": "stream",
     "text": [
      "TIC: 810.0\n",
      "base peak: (300.05, 400.0)\n",
      "relative intensities: [0.025, 0.625, 0.075, 1.0, 0.3]\n"
     ]
    }
   ],
   "source": [
    "mz: list[float] = [100.0, 101.1, 150.2, 300.05, 500.3]\n",
    "intensity: list[float] = [10.0, 250.0, 30.0, 400.0, 120.0]\n",
    "\n",
    "tic = sum(intensity)                  # total ion current\n",
    "base_idx = max(range(len(intensity)), key=lambda i: intensity[i])\n",
    "base_peak = (mz[base_idx], intensity[base_idx])\n",
    "\n",
    "# Normalize to relative intensity (0..1)\n",
    "imax = max(intensity) or 1.0\n",
    "rel = [i/imax for i in intensity]\n",
    "\n",
    "print(\"TIC:\", tic)\n",
    "print(\"base peak:\", base_peak)\n",
    "print(\"relative intensities:\", [round(x,3) for x in rel])"
   ]
  },
  {
   "cell_type": "markdown",
   "id": "5d1eb63b",
   "metadata": {},
   "source": [
    "## 8) Microbiome: OTU/ASV table (int), relative abundance (float), flags (bool)\n",
    "\n",
    "An OTU table is a mapping from taxon (str) to counts (int) per sample. We compute relative abundance and simple QC flags."
   ]
  },
  {
   "cell_type": "code",
   "execution_count": 9,
   "id": "98bfe429",
   "metadata": {},
   "outputs": [
    {
     "name": "stdout",
     "output_type": "stream",
     "text": [
      "relative abundance: {'Escherichia coli': 0.6, 'Bacteroides fragilis': 0.3, 'Lactobacillus casei': 0.1, 'Unassigned': 0.0}\n",
      "flags: {'has_reads': True, 'dominant_taxon_over_50pct': True}\n"
     ]
    }
   ],
   "source": [
    "# Example counts for a single sample\n",
    "otu_counts: dict[str,int] = {\n",
    "    \"Escherichia coli\": 1200,\n",
    "    \"Bacteroides fragilis\": 600,\n",
    "    \"Lactobacillus casei\": 200,\n",
    "    \"Unassigned\": 0,\n",
    "}\n",
    "\n",
    "total = sum(otu_counts.values()) or 1\n",
    "rel_abundance: dict[str,float] = {k: v/total for k, v in otu_counts.items()}\n",
    "\n",
    "# Simple QC flags (bool)\n",
    "flags: dict[str,bool] = {\n",
    "    \"has_reads\": total > 0,\n",
    "    \"dominant_taxon_over_50pct\": max(rel_abundance.values()) > 0.5,\n",
    "}\n",
    "\n",
    "print(\"relative abundance:\", {k: round(v,3) for k,v in rel_abundance.items()})\n",
    "print(\"flags:\", flags)"
   ]
  },
  {
   "cell_type": "markdown",
   "id": "e4c43c1a",
   "metadata": {},
   "source": [
    "## 9) `None` for missing values (and safe handling)\n",
    "\n",
    "Use `None` when a value is missing/unknown. Check with `is None`."
   ]
  },
  {
   "cell_type": "code",
   "execution_count": 10,
   "id": "3eb41a1a",
   "metadata": {},
   "outputs": [
    {
     "name": "stdout",
     "output_type": "stream",
     "text": [
      "coverage: 0.0\n"
     ]
    }
   ],
   "source": [
    "coverage: float | None = None\n",
    "if coverage is None:\n",
    "    coverage = 0.0   # default\n",
    "print(\"coverage:\", coverage)"
   ]
  },
  {
   "cell_type": "markdown",
   "id": "bc30159b",
   "metadata": {},
   "source": [
    "## 10) Conversions & Validation\n",
    "\n",
    "Use `int()`, `float()`, `str()`, `.encode()/.decode()` and custom validators to sanitize inputs."
   ]
  },
  {
   "cell_type": "code",
   "execution_count": 11,
   "id": "a9978b11",
   "metadata": {},
   "outputs": [
    {
     "name": "stdout",
     "output_type": "stream",
     "text": [
      "42 3.14\n",
      "ATGC\n"
     ]
    }
   ],
   "source": [
    "def to_int(x) -> int:\n",
    "    try:\n",
    "        return int(x)\n",
    "    except Exception:\n",
    "        raise ValueError(f\"not an int: {x}\")\n",
    "\n",
    "def to_float(x) -> float:\n",
    "    try:\n",
    "        return float(x)\n",
    "    except Exception:\n",
    "        raise ValueError(f\"not a float: {x}\")\n",
    "\n",
    "print(to_int(\"42\"), to_float(\"3.14\"))\n",
    "print(\"ATGC\".encode(\"ascii\").decode(\"ascii\"))"
   ]
  },
  {
   "cell_type": "markdown",
   "id": "ddd77a18",
   "metadata": {},
   "source": [
    "## 11) Exercises\n",
    "\n",
    "1. **DNA %AT**: Write a function `percent_at(seq: str) -> float` returning AT percentage as a float 0..1.  \n",
    "2. **FASTQ qualities**: Write a function `mean_phred(qstr: str) -> float` that returns mean Phred score (Phred+33).  \n",
    "3. **Peptide mass**: Extend `peptide_mass` to support a fixed modification: +`15.9949` (oxidation) on `M` residues.  \n",
    "4. **Metabolomics scaling**: Normalize intensities to TIC=1.0 and print new base peak.  \n",
    "5. **Microbiome RA**: Given a dict of taxon->count, return the top-2 taxa by relative abundance."
   ]
  },
  {
   "cell_type": "code",
   "execution_count": 12,
   "id": "7efc9b12",
   "metadata": {},
   "outputs": [
    {
     "name": "stdout",
     "output_type": "stream",
     "text": [
      "AT% of ATGCGT = 50.0\n"
     ]
    }
   ],
   "source": [
    "# TODO 1) DNA %AT\n",
    "def percent_at(seq: str) -> float:\n",
    "    seq = seq.upper()\n",
    "    if not seq:\n",
    "        return 0.0\n",
    "    at = seq.count(\"A\") + seq.count(\"T\")\n",
    "    return at / len(seq)\n",
    "\n",
    "print(\"AT% of ATGCGT =\", round(percent_at(\"ATGCGT\")*100,1))"
   ]
  },
  {
   "cell_type": "code",
   "execution_count": 13,
   "id": "cb407493",
   "metadata": {},
   "outputs": [
    {
     "name": "stdout",
     "output_type": "stream",
     "text": [
      "mean phred: 40.0\n"
     ]
    }
   ],
   "source": [
    "# TODO 2) mean Phred\n",
    "def mean_phred(qstr: str) -> float:\n",
    "    if not qstr:\n",
    "        return 0.0\n",
    "    vals = [ord(c) - 33 for c in qstr]\n",
    "    return sum(vals)/len(vals)\n",
    "\n",
    "print(\"mean phred:\", round(mean_phred(\"IIIIIIIIII\"),2))  # 'I' ~ 40"
   ]
  },
  {
   "cell_type": "code",
   "execution_count": 14,
   "id": "bfa6792e",
   "metadata": {},
   "outputs": [
    {
     "name": "stdout",
     "output_type": "stream",
     "text": [
      "ACDM mass (oxidized Ms): 454.11919\n"
     ]
    }
   ],
   "source": [
    "# TODO 3) peptide mass + oxidation on M (+15.9949 each)\n",
    "from decimal import Decimal\n",
    "\n",
    "OX = Decimal(\"15.9949\")\n",
    "def peptide_mass_oxidized(peptide: str) -> Decimal:\n",
    "    total = Decimal(\"18.01056\")\n",
    "    for aa in peptide:\n",
    "        if aa not in AA_MASS:\n",
    "            raise ValueError(f\"Unknown residue: {aa}\")\n",
    "        total += AA_MASS[aa]\n",
    "        if aa == \"M\":\n",
    "            total += OX\n",
    "    return total\n",
    "\n",
    "print(\"ACDM mass (oxidized Ms):\", peptide_mass_oxidized(\"ACDM\"))"
   ]
  },
  {
   "cell_type": "code",
   "execution_count": 15,
   "id": "e357a5b5",
   "metadata": {},
   "outputs": [
    {
     "name": "stdout",
     "output_type": "stream",
     "text": [
      "normalized TIC: 1.0\n"
     ]
    }
   ],
   "source": [
    "# TODO 4) TIC normalize\n",
    "def tic_normalize(intensities: list[float]) -> list[float]:\n",
    "    s = sum(intensities) or 1.0\n",
    "    return [i/s for i in intensities]\n",
    "\n",
    "norm = tic_normalize([10.0, 250.0, 30.0, 400.0, 120.0])\n",
    "print(\"normalized TIC:\", round(sum(norm), 6))"
   ]
  },
  {
   "cell_type": "code",
   "execution_count": 16,
   "id": "a3a6abc9",
   "metadata": {},
   "outputs": [
    {
     "name": "stdout",
     "output_type": "stream",
     "text": [
      "top2: [('A', 0.625), ('B', 0.3125)]\n"
     ]
    }
   ],
   "source": [
    "# TODO 5) Top-2 taxa by relative abundance\n",
    "def top2_taxa(counts: dict[str,int]) -> list[tuple[str,float]]:\n",
    "    total = sum(counts.values()) or 1\n",
    "    ra = {k: v/total for k, v in counts.items()}\n",
    "    return sorted(ra.items(), key=lambda kv: kv[1], reverse=True)[:2]\n",
    "\n",
    "print(\"top2:\", top2_taxa({\"A\":10, \"B\":5, \"C\":1}))"
   ]
  }
 ],
 "metadata": {
  "kernelspec": {
   "display_name": "Python 3",
   "language": "python",
   "name": "python3"
  },
  "language_info": {
   "codemirror_mode": {
    "name": "ipython",
    "version": 3
   },
   "file_extension": ".py",
   "mimetype": "text/x-python",
   "name": "python",
   "nbconvert_exporter": "python",
   "pygments_lexer": "ipython3",
   "version": "3.12.9"
  }
 },
 "nbformat": 4,
 "nbformat_minor": 5
}
