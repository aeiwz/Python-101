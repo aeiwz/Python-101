{
 "cells": [
  {
   "cell_type": "markdown",
   "id": "2279c21a",
   "metadata": {},
   "source": [
    "# 7. Bioinformatics Data Analysis — Expanded (EN)\n",
    "\n",
    "**Why this matters:** In bioinformatics, you routinely convert raw files (FASTA/FASTQ, mzML, CSV/TSV feature tables) into tidy matrices for statistics and visualization. This notebook gives a **practical, hands‑on workflow** with *plain Python fallbacks* and optional `pandas/matplotlib/scikit‑learn` cells when available.\n",
    "\n",
    "**You will learn to:**\n",
    "- Ingest common bio data (CSV/TSV + minimal FASTA) into a consistent matrix form\n",
    "- Perform quick **QC** (missingness, duplicates, outliers—lightweight)\n",
    "- Apply **normalization & scaling** (log, min‑max, z‑score) and **batch‑like effects (toy)**\n",
    "- Do **simple statistics** (fold‑change, t‑test using NumPy if present)\n",
    "- Run **PCA** (if NumPy/sklearn available)\n",
    "- Visualize distributions & profiles (single‑chart examples)\n",
    "- Work through **three concrete use cases**: metabolomics, RNA‑seq, and microbiome"
   ]
  },
  {
   "cell_type": "markdown",
   "id": "e662bb70",
   "metadata": {},
   "source": [
    "## A. Data model & file formats (practical view)\n",
    "\n",
    "- **Samples × Features matrix**: rows = samples, columns = features (genes, peaks, OTUs, peptides).  \n",
    "- **Metadata**: a small table describing samples (e.g., condition, batch).  \n",
    "- **Common text formats**: CSV, TSV; keep an id column (e.g., `sample`) and use plain ASCII headers.\n",
    "\n",
    "Minimal conventions used here:\n",
    "- A table has a first column `sample` and feature columns `F1, F2, ...` or `gene_...`, `OTU_...`.  \n",
    "- Missing numeric entries default to `0.0` or `None` depending on context."
   ]
  },
  {
   "cell_type": "markdown",
   "id": "ab2a3173",
   "metadata": {},
   "source": [
    "## B. Utility functions (pure Python)"
   ]
  },
  {
   "cell_type": "code",
   "execution_count": 15,
   "id": "bacf9995",
   "metadata": {},
   "outputs": [],
   "source": [
    "import csv, math, statistics\n",
    "from typing import List, Dict, Iterable\n",
    "\n",
    "def read_table(path: str) -> list[dict]:\n",
    "    with open(path, newline='', encoding='utf-8') as f:\n",
    "        return list(csv.DictReader(f))\n",
    "\n",
    "def write_table(path: str, rows: list[dict], fieldnames: list[str]):\n",
    "    with open(path, 'w', newline='', encoding='utf-8') as f:\n",
    "        w = csv.DictWriter(f, fieldnames=fieldnames)\n",
    "        w.writeheader(); w.writerows(rows)\n",
    "\n",
    "def to_matrix(rows: list[dict], features: list[str]) -> list[list[float]]:\n",
    "    X = []\n",
    "    for r in rows:\n",
    "        X.append([float(r.get(f, 0.0) or 0.0) for f in features])\n",
    "    return X\n",
    "\n",
    "def minmax_norm(X: List[List[float]]) -> List[List[float]]:\n",
    "    cols = list(zip(*X))\n",
    "    mins = [min(c) for c in cols]\n",
    "    maxs = [max(c) for c in cols]\n",
    "    Y = []\n",
    "    for row in X:\n",
    "        Y.append([(x - mn) / (mx - mn) if mx != mn else 0.0\n",
    "                  for x, mn, mx in zip(row, mins, maxs)])\n",
    "    return Y\n",
    "\n",
    "def zscore_cols(X: List[List[float]]) -> List[List[float]]:\n",
    "    cols = list(zip(*X))\n",
    "    means = [statistics.fmean(c) for c in cols]\n",
    "    stdevs = [statistics.pstdev(c) for c in cols]\n",
    "    Y = []\n",
    "    for row in X:\n",
    "        Y.append([(x-m)/s if s>0 else 0.0 for x,m,s in zip(row,means,stdevs)])\n",
    "    return Y\n",
    "\n",
    "def log1p(X: List[List[float]]) -> List[List[float]]:\n",
    "    return [[math.log1p(x) for x in row] for row in X]\n",
    "\n",
    "def row_sums(X: List[List[float]]) -> List[float]:\n",
    "    return [sum(row) for row in X]\n",
    "\n",
    "def relative_rows(X: List[List[float]]) -> List[List[float]]:\n",
    "    Y = []\n",
    "    for row in X:\n",
    "        s = sum(row) or 1.0\n",
    "        Y.append([x/s for x in row])\n",
    "    return Y"
   ]
  },
  {
   "cell_type": "markdown",
   "id": "7b04d2c8",
   "metadata": {},
   "source": [
    "## C. Quick QC checks"
   ]
  },
  {
   "cell_type": "code",
   "execution_count": 16,
   "id": "7f56e930",
   "metadata": {},
   "outputs": [],
   "source": [
    "def missingness(rows: list[dict], features: list[str]) -> float:\n",
    "    total = len(rows)*len(features) or 1\n",
    "    miss = 0\n",
    "    for r in rows:\n",
    "        for f in features:\n",
    "            v = r.get(f, \"\")\n",
    "            if v in (\"\", None):\n",
    "                miss += 1\n",
    "    return miss/total\n",
    "\n",
    "def duplicate_samples(rows: list[dict]) -> list[str]:\n",
    "    seen, dups = set(), []\n",
    "    for r in rows:\n",
    "        sid = r.get(\"sample\")\n",
    "        if sid in seen:\n",
    "            dups.append(sid)\n",
    "        seen.add(sid)\n",
    "    return dups\n",
    "\n",
    "def feature_outliers_z(X: list[list[float]], thr: float = 3.5) -> dict[int,int]:\n",
    "    cols = list(zip(*X))\n",
    "    out = {}\n",
    "    for j, col in enumerate(cols):\n",
    "        m = statistics.fmean(col)\n",
    "        s = statistics.pstdev(col) or 1.0\n",
    "        cnt = sum(1 for x in col if abs((x-m)/s) > thr)\n",
    "        out[j] = cnt\n",
    "    return out"
   ]
  },
  {
   "cell_type": "markdown",
   "id": "90251fb0",
   "metadata": {},
   "source": [
    "## D. Optional: pandas/matplotlib quick looks (if available)"
   ]
  },
  {
   "cell_type": "code",
   "execution_count": 17,
   "id": "94cad773",
   "metadata": {},
   "outputs": [
    {
     "name": "stdout",
     "output_type": "stream",
     "text": [
      "pandas/matplotlib available ✅\n"
     ]
    }
   ],
   "source": [
    "try:\n",
    "    import pandas as pd\n",
    "    import matplotlib.pyplot as plt\n",
    "    print(\"pandas/matplotlib available ✅\")\n",
    "except Exception as e:\n",
    "    print(\"pandas/matplotlib not available:\", e)"
   ]
  },
  {
   "cell_type": "markdown",
   "id": "f6c0c2cb",
   "metadata": {},
   "source": [
    "## Use Case 1 — Metabolomics: Normalize & PCA (toy)"
   ]
  },
  {
   "cell_type": "code",
   "execution_count": 18,
   "id": "5ed70f36",
   "metadata": {},
   "outputs": [
    {
     "name": "stdout",
     "output_type": "stream",
     "text": [
      "['sample,F1,F2,F3,F4,F5,F6', 'S1,354.64,523.52,488.52,835.22,794.84,940.4', 'S2,164.33,94.43,128.09,179.2,93.85,124.56', 'S3,715.68,493.43,746.03,896.82,346.9,894.35']\n",
      "...\n"
     ]
    }
   ],
   "source": [
    "# 1) Generate table\n",
    "import random, pathlib, csv\n",
    "random.seed(42)\n",
    "features = [f\"F{i}\" for i in range(1,7)]\n",
    "rows = []\n",
    "for i in range(6):\n",
    "    base = random.uniform(100, 1000)\n",
    "    vals = {f: round(base*random.uniform(0.5, 1.5), 2) for f in features}\n",
    "    rows.append({\"sample\": f\"S{i+1}\", **vals})\n",
    "path = pathlib.Path(\"metabolomics.csv\")\n",
    "with path.open(\"w\", newline='', encoding='utf-8') as f:\n",
    "    w = csv.DictWriter(f, fieldnames=[\"sample\", *features])\n",
    "    w.writeheader(); w.writerows(rows)\n",
    "print(path.read_text().splitlines()[:4], \"...\", sep=\"\\n\")"
   ]
  },
  {
   "cell_type": "code",
   "execution_count": 19,
   "id": "01d06d3f",
   "metadata": {},
   "outputs": [
    {
     "name": "stdout",
     "output_type": "stream",
     "text": [
      "TIC first 3: [3937.14, 784.46, 4093.21]\n",
      "Row sum after TIC normalize: [1.0, 1.0, 1.0]\n"
     ]
    }
   ],
   "source": [
    "# 2) Load and normalize\n",
    "rows = read_table(\"metabolomics.csv\")\n",
    "X = to_matrix(rows, features)\n",
    "tic = row_sums(X)\n",
    "X_rel = relative_rows(X)          # TIC normalize\n",
    "X_log = log1p(X_rel)              # log1p to reduce skew\n",
    "X_std = zscore_cols(X_log)        # z-score per feature\n",
    "\n",
    "print(\"TIC first 3:\", [round(t,2) for t in tic[:3]])\n",
    "print(\"Row sum after TIC normalize:\", [round(sum(r),3) for r in X_rel[:3]])"
   ]
  },
  {
   "cell_type": "code",
   "execution_count": 20,
   "id": "913a6583",
   "metadata": {},
   "outputs": [
    {
     "data": {
      "image/png": "[encoded data removed]",
      "text/plain": [
       "<Figure size 640x480 with 1 Axes>"
      ]
     },
     "metadata": {},
     "output_type": "display_data"
    }
   ],
   "source": [
    "# 3) Optional boxplot\n",
    "try:\n",
    "    import pandas as pd, matplotlib.pyplot as plt\n",
    "    df = pd.DataFrame(X_log, index=[r[\"sample\"] for r in rows], columns=features)\n",
    "    ax = df.boxplot(return_type=None)\n",
    "    plt.title(\"Metabolomics (log1p, TIC-normalized)\")\n",
    "    plt.show()\n",
    "except Exception as e:\n",
    "    print(\"pandas/matplotlib not available:\", e)"
   ]
  },
  {
   "cell_type": "code",
   "execution_count": 21,
   "id": "16e12227",
   "metadata": {},
   "outputs": [
    {
     "name": "stdout",
     "output_type": "stream",
     "text": [
      "Explained variance ratio: [0.50597469 0.35888208]\n"
     ]
    },
    {
     "data": {
      "image/png": "[encoded data removed]",
      "text/plain": [
       "<Figure size 640x480 with 1 Axes>"
      ]
     },
     "metadata": {},
     "output_type": "display_data"
    }
   ],
   "source": [
    "# 4) PCA optional\n",
    "try:\n",
    "    import numpy as np\n",
    "    from sklearn.decomposition import PCA\n",
    "    import matplotlib.pyplot as plt\n",
    "\n",
    "    Xn = np.array(X_std)\n",
    "    pca = PCA(n_components=2, random_state=0)\n",
    "    PCs = pca.fit_transform(Xn)\n",
    "    print(\"Explained variance ratio:\", pca.explained_variance_ratio_)\n",
    "\n",
    "    plt.scatter(PCs[:,0], PCs[:,1])\n",
    "    for i, r in enumerate(rows):\n",
    "        plt.text(PCs[i,0], PCs[i,1], r[\"sample\"])\n",
    "    plt.title(\"PCA (first 2 components)\")\n",
    "    plt.xlabel(\"PC1\"); plt.ylabel(\"PC2\")\n",
    "    plt.show()\n",
    "except Exception as e:\n",
    "    print(\"NumPy/sklearn/matplotlib not available:\", e)"
   ]
  },
  {
   "cell_type": "markdown",
   "id": "96415c57",
   "metadata": {},
   "source": [
    "## Use Case 2 — RNA‑seq: Counts → TPM → log transform + simple DE (toy)"
   ]
  },
  {
   "cell_type": "code",
   "execution_count": 22,
   "id": "a9bed4a0",
   "metadata": {},
   "outputs": [
    {
     "name": "stdout",
     "output_type": "stream",
     "text": [
      "Wrote rnaseq_counts.csv with 6 samples and 200 genes\n"
     ]
    }
   ],
   "source": [
    "import random, csv, pathlib, math\n",
    "\n",
    "random.seed(0)\n",
    "G = [f\"gene_{i:03d}\" for i in range(1, 201)]\n",
    "length_kb = {g: random.uniform(0.5, 3.0) for g in G}\n",
    "\n",
    "samples = [f\"C{i}\" for i in range(1,4)] + [f\"T{i}\" for i in range(1,4)]\n",
    "rows = []\n",
    "for s in samples:\n",
    "    counts = {g: random.randint(50, 2000) for g in G}\n",
    "    if s.startswith(\"T\"):\n",
    "        for g in G[:10]:\n",
    "            counts[g] = int(counts[g] * random.uniform(1.5, 3.0))\n",
    "    rows.append({\"sample\": s, **counts})\n",
    "\n",
    "csv_path = pathlib.Path(\"rnaseq_counts.csv\")\n",
    "with csv_path.open(\"w\", newline='', encoding=\"utf-8\") as f:\n",
    "    w = csv.DictWriter(f, fieldnames=[\"sample\", *G])\n",
    "    w.writeheader(); w.writerows(rows)\n",
    "print(\"Wrote rnaseq_counts.csv with\", len(rows), \"samples and\", len(G), \"genes\")"
   ]
  },
  {
   "cell_type": "code",
   "execution_count": 23,
   "id": "9dad20f0",
   "metadata": {},
   "outputs": [
    {
     "name": "stdout",
     "output_type": "stream",
     "text": [
      "Example TPM sums (first 3): [21400.81, 20684.94, 24315.94]\n"
     ]
    }
   ],
   "source": [
    "# Counts -> TPM (toy) -> log1p\n",
    "rows = read_table(\"rnaseq_counts.csv\")\n",
    "X = to_matrix(rows, G)\n",
    "# RPK\n",
    "RPK = []\n",
    "for row in X:\n",
    "    RPK.append([x/(length_kb[g] or 1.0) for x,g in zip(row, G)])\n",
    "# scale to TPM\n",
    "scale = [sum(r) or 1.0 for r in RPK]\n",
    "TPM = [[x/s*1e6 for x,s in zip(r,scale)] for r in RPK]\n",
    "LOG = log1p(TPM)\n",
    "print(\"Example TPM sums (first 3):\", [round(sum(r),2) for r in TPM[:3]])"
   ]
  },
  {
   "cell_type": "code",
   "execution_count": 24,
   "id": "e62339fd",
   "metadata": {},
   "outputs": [
    {
     "name": "stdout",
     "output_type": "stream",
     "text": [
      "Top by |log2FC| (gene, log2FC, t):\n",
      "gene_002 3.43 -7.51\n",
      "gene_005 2.26 -10.25\n",
      "gene_006 1.8 -1.86\n",
      "gene_001 1.3 -1.09\n",
      "gene_003 1.2 -1.34\n"
     ]
    }
   ],
   "source": [
    "# Simple DE: log2FC and naive t-test (if NumPy available)\n",
    "try:\n",
    "    import numpy as np\n",
    "    from math import log2\n",
    "    import statistics\n",
    "    import math\n",
    "\n",
    "    X = np.array(LOG)  # samples x genes (log1p(TPM))\n",
    "    ctrl_idx = [i for i,s in enumerate([r[\"sample\"] for r in rows]) if s.startswith(\"C\")]\n",
    "    trt_idx  = [i for i,s in enumerate([r[\"sample\"] for r in rows]) if s.startswith(\"T\")]\n",
    "\n",
    "    ctrl = X[ctrl_idx, :]\n",
    "    trt  = X[trt_idx, :]\n",
    "\n",
    "    mean_ctrl = ctrl.mean(axis=0)\n",
    "    mean_trt  = trt.mean(axis=0)\n",
    "    log2fc = (mean_trt - mean_ctrl) / math.log(2)  # since LOG is log1p base e\n",
    "\n",
    "    def welch_t(a, b):\n",
    "        ma, mb = a.mean(), b.mean()\n",
    "        va, vb = a.var(ddof=1), b.var(ddof=1)\n",
    "        na, nb = len(a), len(b)\n",
    "        t = (mb - ma) / ((va/na + vb/nb)**0.5 + 1e-12)\n",
    "        return t\n",
    "\n",
    "    tvals = np.array([welch_t(trt[:,j], ctrl[:,j]) for j in range(X.shape[1])])\n",
    "\n",
    "    order = np.argsort(-np.abs(log2fc))[:5]\n",
    "    top = [(G[j], float(log2fc[j]), float(tvals[j])) for j in order]\n",
    "    print(\"Top by |log2FC| (gene, log2FC, t):\")\n",
    "    for g,lfc,t in top:\n",
    "        print(g, round(lfc,2), round(t,2))\n",
    "except Exception as e:\n",
    "    print(\"NumPy not available for DE demo:\", e)"
   ]
  },
  {
   "cell_type": "markdown",
   "id": "3f04b1dd",
   "metadata": {},
   "source": [
    "## Use Case 3 — Microbiome: Relative abundance & Shannon diversity"
   ]
  },
  {
   "cell_type": "code",
   "execution_count": 25,
   "id": "99615529",
   "metadata": {},
   "outputs": [
    {
     "name": "stdout",
     "output_type": "stream",
     "text": [
      "OTU table saved: otu_counts.csv\n"
     ]
    }
   ],
   "source": [
    "# Create tiny OTU table\n",
    "import csv, pathlib, math\n",
    "taxa = [\"Escherichia\", \"Bacteroides\", \"Lactobacillus\", \"Prevotella\", \"Faecalibacterium\"]\n",
    "samples = [\"S1\",\"S2\",\"S3\",\"S4\"]\n",
    "rows = []\n",
    "for i,s in enumerate(samples):\n",
    "    row = {\"sample\": s}\n",
    "    for t in taxa:\n",
    "        row[t] = (i+1)*10 if (hash(t+str(i)) % 3) else (i+1)*50\n",
    "    rows.append(row)\n",
    "\n",
    "otu_path = pathlib.Path(\"otu_counts.csv\")\n",
    "with otu_path.open(\"w\", newline='', encoding=\"utf-8\") as f:\n",
    "    w = csv.DictWriter(f, fieldnames=[\"sample\", *taxa])\n",
    "    w.writeheader(); w.writerows(rows)\n",
    "print(\"OTU table saved:\", otu_path)"
   ]
  },
  {
   "cell_type": "code",
   "execution_count": 26,
   "id": "fe724e4e",
   "metadata": {},
   "outputs": [
    {
     "name": "stdout",
     "output_type": "stream",
     "text": [
      "S1 Shannon H= 1.327\n",
      "S2 Shannon H= 1.609\n",
      "S3 Shannon H= 1.303\n",
      "S4 Shannon H= 1.609\n"
     ]
    }
   ],
   "source": [
    "# Relative abundance and Shannon\n",
    "def shannon(p: Iterable[float]) -> float:\n",
    "    s = 0.0\n",
    "    for x in p:\n",
    "        if x > 0:\n",
    "            s -= x * math.log(x)\n",
    "    return s\n",
    "\n",
    "rows = read_table(\"otu_counts.csv\")\n",
    "X = to_matrix(rows, taxa)\n",
    "X_rel = relative_rows(X)\n",
    "H = [shannon(row) for row in X_rel]\n",
    "\n",
    "for r,h in zip(rows, H):\n",
    "    print(r[\"sample\"], \"Shannon H=\", round(h,3))"
   ]
  },
  {
   "cell_type": "code",
   "execution_count": 27,
   "id": "3ae7a6fc",
   "metadata": {},
   "outputs": [
    {
     "data": {
      "image/png": "[encoded data removed]",
      "text/plain": [
       "<Figure size 640x480 with 1 Axes>"
      ]
     },
     "metadata": {},
     "output_type": "display_data"
    }
   ],
   "source": [
    "# Optional stacked bar of top taxa\n",
    "try:\n",
    "    import pandas as pd, matplotlib.pyplot as plt\n",
    "    df = pd.DataFrame(X_rel, index=[r[\"sample\"] for r in rows], columns=taxa)\n",
    "    df.plot(kind=\"bar\", stacked=True)\n",
    "    plt.title(\"Relative abundance (stacked)\")\n",
    "    plt.ylabel(\"Proportion\")\n",
    "    plt.xlabel(\"Sample\")\n",
    "    plt.legend(bbox_to_anchor=(1.05, 1), loc=\"upper left\")\n",
    "    plt.tight_layout()\n",
    "    plt.show()\n",
    "except Exception as e:\n",
    "    print(\"pandas/matplotlib not available:\", e)"
   ]
  },
  {
   "cell_type": "markdown",
   "id": "74e13618",
   "metadata": {},
   "source": [
    "## Appendix — Minimal FASTA parsing + sequence metrics"
   ]
  },
  {
   "cell_type": "code",
   "execution_count": 28,
   "id": "2f114fd8",
   "metadata": {},
   "outputs": [
    {
     "name": "stdout",
     "output_type": "stream",
     "text": [
      "s1 len 10 GC% 50.0\n",
      "s2 len 10 GC% 40.0\n"
     ]
    }
   ],
   "source": [
    "def read_fasta(path):\n",
    "    name, seq = None, []\n",
    "    with open(path) as f:\n",
    "        for line in f:\n",
    "            line = line.strip()\n",
    "            if not line:\n",
    "                continue\n",
    "            if line.startswith('>'):\n",
    "                if name:\n",
    "                    yield (name, ''.join(seq))\n",
    "                name = line[1:]\n",
    "                seq = []\n",
    "            else:\n",
    "                seq.append(line)\n",
    "    if name:\n",
    "        yield (name, ''.join(seq))\n",
    "\n",
    "# demo\n",
    "open(\"tiny.fa\",\"w\").write(\">s1\\nATGCGTACGT\\n>s2\\nATTTGGCCAA\\n\")\n",
    "for name, seq in read_fasta(\"tiny.fa\"):\n",
    "    gc = (seq.count('G')+seq.count('C'))/len(seq)\n",
    "    print(name, \"len\", len(seq), \"GC%\", round(gc*100,1))"
   ]
  },
  {
   "cell_type": "markdown",
   "id": "8f11983b",
   "metadata": {},
   "source": [
    "## Exercises\n",
    "\n",
    "1. **QC dashboard**: Compute and print missingness, duplicate samples, and top‑5 features with most outliers (by `feature_outliers_z`).  \n",
    "2. **Metabolomics**: After `zscore_cols`, compute **cosine similarity** between pairs of samples and find the most similar pair.  \n",
    "3. **RNA‑seq**: Modify the DE demo to also compute **Benjamini‑Hochberg FDR** if NumPy is available.  \n",
    "4. **Microbiome**: Add **Shannon evenness** (`H/log(S)`) and identify the sample with the highest evenness.  \n",
    "5. **General**: Write a function that joins two CSV tables on `sample` and returns a merged matrix of features."
   ]
  }
 ],
 "metadata": {
  "kernelspec": {
   "display_name": "Python 3",
   "language": "python",
   "name": "python3"
  },
  "language_info": {
   "codemirror_mode": {
    "name": "ipython",
    "version": 3
   },
   "file_extension": ".py",
   "mimetype": "text/x-python",
   "name": "python",
   "nbconvert_exporter": "python",
   "pygments_lexer": "ipython3",
   "version": "3.12.9"
  }
 },
 "nbformat": 4,
 "nbformat_minor": 5
}
