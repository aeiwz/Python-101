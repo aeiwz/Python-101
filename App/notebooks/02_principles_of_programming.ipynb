{
 "cells": [
  {
   "cell_type": "markdown",
   "id": "4f329811",
   "metadata": {},
   "source": [
    "# 2. Principles of Programming\n",
    "\n",
    "**Learning goals**\n",
    "- Reason about algorithms, correctness, readability, and testing.\n",
    "- Use control flow, decomposition (functions), and documentation.\n",
    "- Practice complexity thinking (Big‑O) at a high level."
   ]
  },
  {
   "cell_type": "markdown",
   "id": "26a0b44c",
   "metadata": {},
   "source": [
    "## Core principles\n",
    "- **Decomposition**: break down into small functions.\n",
    "- **Readability**: naming, comments, docstrings, PEP 8.\n",
    "- **Correctness**: tests (doctest/pytest), invariants.\n",
    "- **Complexity**: time/space costs; prefer simpler solutions first.\n",
    "- **Versioning**: keep history via Git, iterate in notebooks via checkpoints."
   ]
  },
  {
   "cell_type": "code",
   "execution_count": 27,
   "id": "7ca5be4d",
   "metadata": {},
   "outputs": [
    {
     "name": "stdout",
     "output_type": "stream",
     "text": [
      "1 False\n",
      "2 True\n",
      "3 True\n",
      "4 False\n",
      "5 True\n",
      "6 False\n",
      "7 True\n",
      "8 False\n",
      "9 False\n",
      "10 False\n",
      "11 True\n",
      "12 False\n",
      "13 True\n",
      "14 False\n",
      "15 False\n",
      "16 False\n",
      "17 True\n",
      "18 False\n",
      "19 True\n"
     ]
    }
   ],
   "source": [
    "def is_prime(n: int) -> bool:\n",
    "    \"\"\"Return True if n is a prime.\n",
    "\n",
    "    >>> is_prime(2)\n",
    "    True\n",
    "    >>> is_prime(9)\n",
    "    False\n",
    "    \"\"\"\n",
    "    if n < 2:\n",
    "        return False\n",
    "    i = 2\n",
    "    while i * i <= n:\n",
    "        if n % i == 0:\n",
    "            return False\n",
    "        i += 1\n",
    "    return True\n",
    "\n",
    "for k in range(1, 20):\n",
    "    print(k, is_prime(k))"
   ]
  },
  {
   "cell_type": "markdown",
   "id": "1fabaebd",
   "metadata": {},
   "source": [
    "### Simple testing with `doctest`"
   ]
  },
  {
   "cell_type": "code",
   "execution_count": 28,
   "id": "e290f565",
   "metadata": {},
   "outputs": [
    {
     "name": "stdout",
     "output_type": "stream",
     "text": [
      "Trying:\n",
      "    tmp = pathlib.Path(\"tiny.csv\")\n",
      "Expecting nothing\n",
      "ok\n",
      "Trying:\n",
      "    _ = tmp.write_text(\"col\\n1\\n2\\n3\\n\")\n",
      "Expecting nothing\n",
      "ok\n",
      "Trying:\n",
      "    column_stats(\"tiny.csv\", \"col\")\n",
      "Expecting:\n",
      "    (3, 2.0, 0.816496580927726, 1.0, 3.0)\n",
      "ok\n",
      "Trying:\n",
      "    fibonacci(7)\n",
      "Expecting:\n",
      "    [0, 1, 1, 2, 3, 5, 8]\n",
      "ok\n",
      "Trying:\n",
      "    is_prime(2)\n",
      "Expecting:\n",
      "    True\n",
      "ok\n",
      "Trying:\n",
      "    is_prime(9)\n",
      "Expecting:\n",
      "    False\n",
      "ok\n",
      "Trying:\n",
      "    normalize([1, 1, 2])\n",
      "Expecting:\n",
      "    [0.25, 0.25, 0.5]\n",
      "ok\n",
      "Trying:\n",
      "    normalize([])\n",
      "Expecting:\n",
      "    []\n",
      "ok\n",
      "19 items had no tests:\n",
      "    __main__\n",
      "    __main__.Counter\n",
      "    __main__.Counter.__init__\n",
      "    __main__.Counter.add\n",
      "    __main__.Counter.items\n",
      "    __main__.TestNormalize\n",
      "    __main__.TestNormalize.test_basic\n",
      "    __main__.TestNormalize.test_empty\n",
      "    __main__.TestNormalize.test_sum_to_one\n",
      "    __main__.fib_dp\n",
      "    __main__.fib_iter\n",
      "    __main__.fib_memo\n",
      "    __main__.fib_recursive\n",
      "    __main__.func\n",
      "    __main__.insertion_sort\n",
      "    __main__.max_or_none\n",
      "    __main__.moving_average\n",
      "    __main__.safe_ratio\n",
      "    __main__.word_counts\n",
      "4 items passed all tests:\n",
      "   3 tests in __main__.column_stats\n",
      "   1 tests in __main__.fibonacci\n",
      "   2 tests in __main__.is_prime\n",
      "   2 tests in __main__.normalize\n",
      "8 tests in 23 items.\n",
      "8 passed and 0 failed.\n",
      "Test passed.\n"
     ]
    },
    {
     "data": {
      "text/plain": [
       "TestResults(failed=0, attempted=8)"
      ]
     },
     "execution_count": 28,
     "metadata": {},
     "output_type": "execute_result"
    }
   ],
   "source": [
    "import doctest\n",
    "doctest.testmod(verbose=True)"
   ]
  },
  {
   "cell_type": "markdown",
   "id": "d0386050",
   "metadata": {},
   "source": [
    "### Exercise\n",
    "Implement `fibonacci(n)` returning a list of first `n` Fibonacci numbers.\n",
    "Add a doctest to check `fibonacci(7) == [0,1,1,2,3,5,8]`."
   ]
  },
  {
   "cell_type": "code",
   "execution_count": 29,
   "id": "dab58893",
   "metadata": {},
   "outputs": [
    {
     "name": "stdout",
     "output_type": "stream",
     "text": [
      "Trying:\n",
      "    tmp = pathlib.Path(\"tiny.csv\")\n",
      "Expecting nothing\n",
      "ok\n",
      "Trying:\n",
      "    _ = tmp.write_text(\"col\\n1\\n2\\n3\\n\")\n",
      "Expecting nothing\n",
      "ok\n",
      "Trying:\n",
      "    column_stats(\"tiny.csv\", \"col\")\n",
      "Expecting:\n",
      "    (3, 2.0, 0.816496580927726, 1.0, 3.0)\n",
      "ok\n",
      "Trying:\n",
      "    fibonacci(7)\n",
      "Expecting:\n",
      "    [0, 1, 1, 2, 3, 5, 8]\n",
      "ok\n",
      "Trying:\n",
      "    is_prime(2)\n",
      "Expecting:\n",
      "    True\n",
      "ok\n",
      "Trying:\n",
      "    is_prime(9)\n",
      "Expecting:\n",
      "    False\n",
      "ok\n",
      "Trying:\n",
      "    normalize([1, 1, 2])\n",
      "Expecting:\n",
      "    [0.25, 0.25, 0.5]\n",
      "ok\n",
      "Trying:\n",
      "    normalize([])\n",
      "Expecting:\n",
      "    []\n",
      "ok\n",
      "19 items had no tests:\n",
      "    __main__\n",
      "    __main__.Counter\n",
      "    __main__.Counter.__init__\n",
      "    __main__.Counter.add\n",
      "    __main__.Counter.items\n",
      "    __main__.TestNormalize\n",
      "    __main__.TestNormalize.test_basic\n",
      "    __main__.TestNormalize.test_empty\n",
      "    __main__.TestNormalize.test_sum_to_one\n",
      "    __main__.fib_dp\n",
      "    __main__.fib_iter\n",
      "    __main__.fib_memo\n",
      "    __main__.fib_recursive\n",
      "    __main__.func\n",
      "    __main__.insertion_sort\n",
      "    __main__.max_or_none\n",
      "    __main__.moving_average\n",
      "    __main__.safe_ratio\n",
      "    __main__.word_counts\n",
      "4 items passed all tests:\n",
      "   3 tests in __main__.column_stats\n",
      "   1 tests in __main__.fibonacci\n",
      "   2 tests in __main__.is_prime\n",
      "   2 tests in __main__.normalize\n",
      "8 tests in 23 items.\n",
      "8 passed and 0 failed.\n",
      "Test passed.\n"
     ]
    },
    {
     "data": {
      "text/plain": [
       "TestResults(failed=0, attempted=8)"
      ]
     },
     "execution_count": 29,
     "metadata": {},
     "output_type": "execute_result"
    }
   ],
   "source": [
    "# TODO\n",
    "def fibonacci(n: int):\n",
    "    \"\"\"Return first n Fibonacci numbers.\n",
    "\n",
    "    >>> fibonacci(7)\n",
    "    [0, 1, 1, 2, 3, 5, 8]\n",
    "    \"\"\"\n",
    "    seq = []\n",
    "    a, b = 0, 1\n",
    "    for _ in range(n):\n",
    "        seq.append(a)\n",
    "        a, b = b, a + b\n",
    "    return seq\n",
    "\n",
    "import doctest; doctest.testmod(verbose=True)"
   ]
  },
  {
   "cell_type": "markdown",
   "id": "84c5eb3b",
   "metadata": {},
   "source": [
    "# 🧭 Principles of Programming — Expanded\n",
    "\n",
    "This expanded section adds **algorithm design**, **pseudocode**, **complexity**, **testing**, **debugging**, **type hints**, and **software craft** (style, docs, version control). Use it as a quick reference during labs."
   ]
  },
  {
   "cell_type": "markdown",
   "id": "a0baab73",
   "metadata": {},
   "source": [
    "## 1) Algorithm Design & Pseudocode\n",
    "\n",
    "**Recipe → Code**: Start with plain-language steps, then structure as pseudocode before writing Python.\n",
    "\n",
    "**Example: find the maximum in a list**\n",
    "\n",
    "Pseudocode:\n",
    "```\n",
    "set best to -∞\n",
    "for each item x in list:\n",
    "    if x > best:\n",
    "        best = x\n",
    "return best\n",
    "```\n",
    "\n",
    "Edge cases to consider:\n",
    "- Empty list → raise error or return `None`?\n",
    "- Non-numeric items?"
   ]
  },
  {
   "cell_type": "code",
   "execution_count": 30,
   "id": "6d55eb8b",
   "metadata": {},
   "outputs": [
    {
     "name": "stdout",
     "output_type": "stream",
     "text": [
      "10\n",
      "None\n"
     ]
    }
   ],
   "source": [
    "def max_or_none(xs):\n",
    "    if not xs:\n",
    "        return None\n",
    "    best = xs[0]\n",
    "    for x in xs[1:]:\n",
    "        if x > best:\n",
    "            best = x\n",
    "    return best\n",
    "\n",
    "print(max_or_none([3, 10, -5, 7]))\n",
    "print(max_or_none([]))"
   ]
  },
  {
   "cell_type": "markdown",
   "id": "026972a9",
   "metadata": {},
   "source": [
    "## 2) Complexity (Big‑O) — Why it matters\n",
    "\n",
    "**Big‑O** describes how runtime/memory grows with input size *n*.\n",
    "\n",
    "- `O(1)` constant\n",
    "- `O(log n)` logarithmic\n",
    "- `O(n)` linear\n",
    "- `O(n log n)` typical efficient sorts\n",
    "- `O(n^2)` quadratic (nested loops)\n",
    "\n",
    "The point: prefer better growth rates when `n` gets large."
   ]
  },
  {
   "cell_type": "code",
   "execution_count": 31,
   "id": "cb9697b3",
   "metadata": {},
   "outputs": [
    {
     "data": {
      "image/png": "[encoded data removed]",
      "text/plain": [
       "<Figure size 640x480 with 1 Axes>"
      ]
     },
     "metadata": {},
     "output_type": "display_data"
    }
   ],
   "source": [
    "# Single-plot sketch of common growth rates\n",
    "import numpy as np\n",
    "import matplotlib.pyplot as plt\n",
    "\n",
    "n = np.linspace(1, 1000, 200)\n",
    "curves = {\n",
    "    \"O(1)\": np.ones_like(n),\n",
    "    \"O(log n)\": np.log2(n),\n",
    "    \"O(n)\": n,\n",
    "    \"O(n log n)\": n*np.log2(n),\n",
    "    \"O(n^2)\": n**2 / 100,  # scaled down for visibility\n",
    "}\n",
    "\n",
    "for label, y in curves.items():\n",
    "    plt.plot(n, y, label=label)\n",
    "\n",
    "plt.xlabel(\"n\")\n",
    "plt.ylabel(\"relative cost (scaled)\")\n",
    "plt.title(\"Asymptotic growth (one chart)\")\n",
    "plt.legend()\n",
    "plt.show()"
   ]
  },
  {
   "cell_type": "markdown",
   "id": "151111c8",
   "metadata": {},
   "source": [
    "## 3) Practice: Sorting design & timing\n",
    "\n",
    "- Python's built-in `sorted` uses **Timsort** (`O(n log n)` average/worst).\n",
    "- We'll compare it to a simple **insertion sort** (`O(n^2)`) for small `n`.\n",
    "\n",
    "> This is for **learning**, not to replace `sorted`!"
   ]
  },
  {
   "cell_type": "code",
   "execution_count": 1,
   "id": "bcb567f4",
   "metadata": {},
   "outputs": [
    {
     "name": "stdout",
     "output_type": "stream",
     "text": [
      "n= 100  insertion=0.000187s  sorted()=0.000009s  same=True\n",
      "n= 300  insertion=0.001498s  sorted()=0.000028s  same=True\n",
      "n= 800  insertion=0.017390s  sorted()=0.000080s  same=True\n"
     ]
    }
   ],
   "source": [
    "import random, time\n",
    "\n",
    "def insertion_sort(a):\n",
    "    a = a[:]  # copy\n",
    "    for i in range(1, len(a)):\n",
    "        key = a[i]\n",
    "        j = i-1\n",
    "        while j >= 0 and a[j] > key:\n",
    "            a[j+1] = a[j]\n",
    "            j -= 1\n",
    "        a[j+1] = key\n",
    "    return a\n",
    "\n",
    "for n in [100, 300, 800]:\n",
    "    data = [random.randint(0, 10_000) for _ in range(n)]\n",
    "    t0 = time.perf_counter(); s1 = insertion_sort(data); t1 = time.perf_counter()\n",
    "    t2 = time.perf_counter(); s2 = sorted(data);          t3 = time.perf_counter()\n",
    "    print(f\"n={n:4d}  insertion={t1-t0:.6f}s  sorted()={t3-t2:.6f}s  same={s1==s2}\")"
   ]
  },
  {
   "cell_type": "markdown",
   "id": "c069f55c",
   "metadata": {},
   "source": [
    "## 4) Testing: doctest & unittest\n",
    "\n",
    "- **Doctest** keeps tiny examples inside docstrings.\n",
    "- **unittest/pytest** supports larger suites.\n",
    "\n",
    "We'll show both quickly."
   ]
  },
  {
   "cell_type": "code",
   "execution_count": 33,
   "id": "39c462b6",
   "metadata": {},
   "outputs": [
    {
     "name": "stdout",
     "output_type": "stream",
     "text": [
      "Trying:\n",
      "    tmp = pathlib.Path(\"tiny.csv\")\n",
      "Expecting nothing\n",
      "ok\n",
      "Trying:\n",
      "    _ = tmp.write_text(\"col\\n1\\n2\\n3\\n\")\n",
      "Expecting nothing\n",
      "ok\n",
      "Trying:\n",
      "    column_stats(\"tiny.csv\", \"col\")\n",
      "Expecting:\n",
      "    (3, 2.0, 0.816496580927726, 1.0, 3.0)\n",
      "ok\n",
      "Trying:\n",
      "    fibonacci(7)\n",
      "Expecting:\n",
      "    [0, 1, 1, 2, 3, 5, 8]\n",
      "ok\n",
      "Trying:\n",
      "    is_prime(2)\n",
      "Expecting:\n",
      "    True\n",
      "ok\n",
      "Trying:\n",
      "    is_prime(9)\n",
      "Expecting:\n",
      "    False\n",
      "ok\n",
      "Trying:\n",
      "    normalize([1, 1, 2])\n",
      "Expecting:\n",
      "    [0.25, 0.25, 0.5]\n",
      "ok\n",
      "Trying:\n",
      "    normalize([])\n",
      "Expecting:\n",
      "    []\n",
      "ok\n",
      "19 items had no tests:\n",
      "    __main__\n",
      "    __main__.Counter\n",
      "    __main__.Counter.__init__\n",
      "    __main__.Counter.add\n",
      "    __main__.Counter.items\n",
      "    __main__.TestNormalize\n",
      "    __main__.TestNormalize.test_basic\n",
      "    __main__.TestNormalize.test_empty\n",
      "    __main__.TestNormalize.test_sum_to_one\n",
      "    __main__.fib_dp\n",
      "    __main__.fib_iter\n",
      "    __main__.fib_memo\n",
      "    __main__.fib_recursive\n",
      "    __main__.func\n",
      "    __main__.insertion_sort\n",
      "    __main__.max_or_none\n",
      "    __main__.moving_average\n",
      "    __main__.safe_ratio\n",
      "    __main__.word_counts\n",
      "4 items passed all tests:\n",
      "   3 tests in __main__.column_stats\n",
      "   1 tests in __main__.fibonacci\n",
      "   2 tests in __main__.is_prime\n",
      "   2 tests in __main__.normalize\n",
      "8 tests in 23 items.\n",
      "8 passed and 0 failed.\n",
      "Test passed.\n"
     ]
    },
    {
     "data": {
      "text/plain": [
       "TestResults(failed=0, attempted=8)"
      ]
     },
     "execution_count": 33,
     "metadata": {},
     "output_type": "execute_result"
    }
   ],
   "source": [
    "def normalize(xs):\n",
    "    \"\"\"Return xs scaled to sum to 1.\n",
    "\n",
    "    >>> normalize([1, 1, 2])\n",
    "    [0.25, 0.25, 0.5]\n",
    "    >>> normalize([])\n",
    "    []\n",
    "    \"\"\"\n",
    "    if not xs:\n",
    "        return []\n",
    "    s = float(sum(xs))\n",
    "    return [x/s for x in xs]\n",
    "\n",
    "import doctest\n",
    "doctest.testmod(verbose=True)"
   ]
  },
  {
   "cell_type": "code",
   "execution_count": 34,
   "id": "8beba423",
   "metadata": {},
   "outputs": [
    {
     "name": "stderr",
     "output_type": "stream",
     "text": [
      "test_basic (__main__.TestNormalize.test_basic) ... ok\n",
      "test_empty (__main__.TestNormalize.test_empty) ... ok\n",
      "test_sum_to_one (__main__.TestNormalize.test_sum_to_one) ... ok\n",
      "\n",
      "----------------------------------------------------------------------\n",
      "Ran 3 tests in 0.006s\n",
      "\n",
      "OK\n"
     ]
    }
   ],
   "source": [
    "# Minimal unittest example\n",
    "import unittest\n",
    "\n",
    "class TestNormalize(unittest.TestCase):\n",
    "    def test_basic(self):\n",
    "        self.assertEqual(normalize([2, 2]), [0.5, 0.5])\n",
    "    def test_empty(self):\n",
    "        self.assertEqual(normalize([]), [])\n",
    "    def test_sum_to_one(self):\n",
    "        self.assertAlmostEqual(sum(normalize([1,2,3])), 1.0)\n",
    "\n",
    "suite = unittest.defaultTestLoader.loadTestsFromTestCase(TestNormalize)\n",
    "unittest.TextTestRunner(verbosity=2).run(suite);"
   ]
  },
  {
   "cell_type": "markdown",
   "id": "3f817fa8",
   "metadata": {},
   "source": [
    "## 5) Assertions, Logging, Debugging\n",
    "\n",
    "- **Assertions** check assumptions in code; remove with `-O` flag, so use for internal checks.\n",
    "- **Logging** records runtime info without print‑spam.\n",
    "- **Debugging**: use breakpoints (`%debug`, `pdb`, or VS Code debugger)."
   ]
  },
  {
   "cell_type": "code",
   "execution_count": 35,
   "id": "8eab6016",
   "metadata": {},
   "outputs": [
    {
     "name": "stderr",
     "output_type": "stream",
     "text": [
      "WARNING:division by zero, returning None\n"
     ]
    },
    {
     "name": "stdout",
     "output_type": "stream",
     "text": [
      "2.0\n",
      "None\n"
     ]
    }
   ],
   "source": [
    "import logging\n",
    "logging.basicConfig(level=logging.INFO, format=\"%(levelname)s:%(message)s\")\n",
    "\n",
    "def safe_ratio(a, b):\n",
    "    assert isinstance(a, (int, float)) and isinstance(b, (int, float)), \"numbers only\"\n",
    "    if b == 0:\n",
    "        logging.warning(\"division by zero, returning None\")\n",
    "        return None\n",
    "    return a/b\n",
    "\n",
    "print(safe_ratio(6, 3))\n",
    "print(safe_ratio(6, 0))"
   ]
  },
  {
   "cell_type": "markdown",
   "id": "4da158c1",
   "metadata": {},
   "source": [
    "## 6) Style (PEP 8), Docstrings, Type Hints\n",
    "\n",
    "- Follow **PEP 8**: naming, line length ~79/99, spaces after commas, etc.\n",
    "- Use **docstrings**: `\"\"\"Summary...\"\"\"` with parameters/returns.\n",
    "- Add **type hints** for clarity and static checks (with `mypy`).\n",
    "\n",
    "Example:"
   ]
  },
  {
   "cell_type": "code",
   "execution_count": 36,
   "id": "53f577d5",
   "metadata": {},
   "outputs": [
    {
     "name": "stdout",
     "output_type": "stream",
     "text": [
      "[2.0, 3.0, 4.0]\n"
     ]
    }
   ],
   "source": [
    "from typing import Iterable, List\n",
    "\n",
    "def moving_average(xs: Iterable[float], k: int) -> List[float]:\n",
    "    \"\"\"Return simple moving average with window k.\n",
    "\n",
    "    Args:\n",
    "        xs: numeric sequence\n",
    "        k: window size (>0)\n",
    "\n",
    "    Returns:\n",
    "        list of averages (length n-k+1)\n",
    "\n",
    "    Raises:\n",
    "        ValueError: if k <= 0 or k > len(xs)\n",
    "    \"\"\"\n",
    "    xs = list(xs)\n",
    "    n = len(xs)\n",
    "    if k <= 0 or k > n:\n",
    "        raise ValueError(\"invalid window size\")\n",
    "    out = []\n",
    "    s = sum(xs[:k])\n",
    "    out.append(s/k)\n",
    "    for i in range(k, n):\n",
    "        s += xs[i] - xs[i-k]\n",
    "        out.append(s/k)\n",
    "    return out\n",
    "\n",
    "print(moving_average([1,2,3,4,5], 3))"
   ]
  },
  {
   "cell_type": "markdown",
   "id": "bf567353",
   "metadata": {},
   "source": [
    "## 7) Paradigms: Functional vs OOP (when to use which)\n",
    "\n",
    "- **Functional**: stateless functions, immutability, composability. Great for data transforms.\n",
    "- **OOP**: encapsulate state/behavior. Great for modeling entities or when you need polymorphism.\n",
    "\n",
    "Small example: Counting words (functional) vs a tiny `Counter` class (OOP)."
   ]
  },
  {
   "cell_type": "code",
   "execution_count": 37,
   "id": "8d6f2aba",
   "metadata": {},
   "outputs": [
    {
     "name": "stdout",
     "output_type": "stream",
     "text": [
      "{'to': 2, 'be': 2, 'or': 1, 'not': 1}\n",
      "[('be', 2), ('not', 1), ('or', 1), ('to', 2)]\n"
     ]
    }
   ],
   "source": [
    "# Functional style\n",
    "def word_counts(text: str):\n",
    "    counts = {}\n",
    "    for w in text.lower().split():\n",
    "        counts[w] = counts.get(w, 0) + 1\n",
    "    return counts\n",
    "\n",
    "print(word_counts(\"To be or not to be\"))\n",
    "\n",
    "# OOP style\n",
    "class Counter:\n",
    "    def __init__(self):\n",
    "        self._d = {}\n",
    "    def add(self, key, n=1):\n",
    "        self._d[key] = self._d.get(key, 0) + n\n",
    "    def items(self):\n",
    "        return sorted(self._d.items())\n",
    "\n",
    "c = Counter()\n",
    "for w in \"to be or not to be\".split():\n",
    "    c.add(w.lower())\n",
    "print(c.items())"
   ]
  },
  {
   "cell_type": "markdown",
   "id": "f0a04999",
   "metadata": {},
   "source": [
    "## 8) Version Control Basics (Git)\n",
    "\n",
    "- `git init`, `git add`, `git commit -m \"msg\"`\n",
    "- `git status`, `git log`, `git diff`\n",
    "- Branches: `git switch -c feature-x`, merge with Pull Requests.\n",
    "- In notebooks, keep outputs small (clear heavy images) to reduce diffs."
   ]
  },
  {
   "cell_type": "markdown",
   "id": "d663929a",
   "metadata": {},
   "source": [
    "## 9) Mini Capstone — CSV Stats CLI (💡 Challenge)\n",
    "\n",
    "**Goal**: Write a function `column_stats(path, col)` that returns `count, mean, std, min, max` for a numeric column in a CSV file.\n",
    "\n",
    "**Steps**:\n",
    "1. Design pseudocode.\n",
    "2. Implement with docstring + type hints.\n",
    "3. Add doctests for a tiny sample file.\n",
    "4. Run a small `unittest`."
   ]
  },
  {
   "cell_type": "code",
   "execution_count": 38,
   "id": "bbfe6a8d",
   "metadata": {},
   "outputs": [
    {
     "name": "stdout",
     "output_type": "stream",
     "text": [
      "Trying:\n",
      "    tmp = pathlib.Path(\"tiny.csv\")\n",
      "Expecting nothing\n",
      "ok\n",
      "Trying:\n",
      "    _ = tmp.write_text(\"col\\n1\\n2\\n3\\n\")\n",
      "Expecting nothing\n",
      "ok\n",
      "Trying:\n",
      "    column_stats(\"tiny.csv\", \"col\")\n",
      "Expecting:\n",
      "    (3, 2.0, 0.816496580927726, 1.0, 3.0)\n",
      "ok\n",
      "Trying:\n",
      "    fibonacci(7)\n",
      "Expecting:\n",
      "    [0, 1, 1, 2, 3, 5, 8]\n",
      "ok\n",
      "Trying:\n",
      "    is_prime(2)\n",
      "Expecting:\n",
      "    True\n",
      "ok\n",
      "Trying:\n",
      "    is_prime(9)\n",
      "Expecting:\n",
      "    False\n",
      "ok\n",
      "Trying:\n",
      "    normalize([1, 1, 2])\n",
      "Expecting:\n",
      "    [0.25, 0.25, 0.5]\n",
      "ok\n",
      "Trying:\n",
      "    normalize([])\n",
      "Expecting:\n",
      "    []\n",
      "ok\n",
      "19 items had no tests:\n",
      "    __main__\n",
      "    __main__.Counter\n",
      "    __main__.Counter.__init__\n",
      "    __main__.Counter.add\n",
      "    __main__.Counter.items\n",
      "    __main__.TestNormalize\n",
      "    __main__.TestNormalize.test_basic\n",
      "    __main__.TestNormalize.test_empty\n",
      "    __main__.TestNormalize.test_sum_to_one\n",
      "    __main__.fib_dp\n",
      "    __main__.fib_iter\n",
      "    __main__.fib_memo\n",
      "    __main__.fib_recursive\n",
      "    __main__.func\n",
      "    __main__.insertion_sort\n",
      "    __main__.max_or_none\n",
      "    __main__.moving_average\n",
      "    __main__.safe_ratio\n",
      "    __main__.word_counts\n",
      "4 items passed all tests:\n",
      "   3 tests in __main__.column_stats\n",
      "   1 tests in __main__.fibonacci\n",
      "   2 tests in __main__.is_prime\n",
      "   2 tests in __main__.normalize\n",
      "8 tests in 23 items.\n",
      "8 passed and 0 failed.\n",
      "Test passed.\n"
     ]
    }
   ],
   "source": [
    "import csv, math, pathlib\n",
    "\n",
    "def column_stats(path: str, col: str):\n",
    "    \"\"\"Return (count, mean, std, min, max) for numeric column `col` in CSV at `path`.\n",
    "\n",
    "    Examples\n",
    "    --------\n",
    "    >>> tmp = pathlib.Path(\"tiny.csv\")\n",
    "    >>> _ = tmp.write_text(\"col\\\\n1\\\\n2\\\\n3\\\\n\")\n",
    "    >>> column_stats(\"tiny.csv\", \"col\")\n",
    "    (3, 2.0, 0.816496580927726, 1.0, 3.0)\n",
    "    \"\"\"\n",
    "    values = []\n",
    "    with open(path, newline='', encoding='utf-8') as f:\n",
    "        r = csv.DictReader(f)\n",
    "        for row in r:\n",
    "            if row.get(col) not in (None, \"\"):\n",
    "                values.append(float(row[col]))\n",
    "    if not values:\n",
    "        return (0, float('nan'), float('nan'), float('nan'), float('nan'))\n",
    "    n = len(values)\n",
    "    mean = sum(values)/n\n",
    "    var = sum((x-mean)**2 for x in values)/n\n",
    "    std = var**0.5\n",
    "    return (n, mean, std, min(values), max(values))\n",
    "\n",
    "if __name__ == \"__main__\":\n",
    "    import doctest\n",
    "    doctest.testmod(verbose=True)"
   ]
  },
  {
   "cell_type": "markdown",
   "id": "d49d66e8",
   "metadata": {},
   "source": [
    "## 🔄 Example: Fibonacci Performance — Naive Recursion vs Dynamic Programming\n",
    "\n",
    "The Fibonacci sequence is a classic case for comparing algorithmic strategies.\n",
    "\n",
    "- **Naive recursion**: `fib(n) = fib(n-1) + fib(n-2)`  \n",
    "  - Exponential time `O(2^n)` due to repeated recomputation.\n",
    "- **Memoization / Dynamic Programming**: store results and reuse them.  \n",
    "  - Linear time `O(n)`."
   ]
  },
  {
   "cell_type": "code",
   "execution_count": 39,
   "id": "25ef6567",
   "metadata": {},
   "outputs": [
    {
     "name": "stdout",
     "output_type": "stream",
     "text": [
      "fib_recursive   \n",
      " fib(35) = 9227465 numbers \n",
      " time = 1.301297 s\n",
      "\n",
      "fib_dp          \n",
      " fib(1000) = 43466557686937456435688527675040625802564660517371780402481729089536555417949051890403879840079255169295922593080322634775209689623239873322471161642996440906533187938298969649928516003704476137795166849228875 numbers \n",
      " time = 0.000889 s\n",
      "\n",
      "fib_iter        \n",
      " fib(1000) = 43466557686937456435688527675040625802564660517371780402481729089536555417949051890403879840079255169295922593080322634775209689623239873322471161642996440906533187938298969649928516003704476137795166849228875 numbers \n",
      " time = 0.000050 s\n",
      "\n"
     ]
    }
   ],
   "source": [
    "import time\n",
    "\n",
    "# -------------------------------------------------------\n",
    "# 1) Naive recursive implementation\n",
    "# -------------------------------------------------------\n",
    "# - Defines Fibonacci recursively:\n",
    "#     F(0) = 0, F(1) = 1\n",
    "#     F(n) = F(n-1) + F(n-2)\n",
    "# - This version recomputes the same subproblems many times.\n",
    "# - Time complexity: O(2^n) (exponential).\n",
    "# - Very slow for larger n (e.g., n=40+).\n",
    "def fib_recursive(n: int) -> int:\n",
    "    if n <= 1:\n",
    "        return n\n",
    "    return fib_recursive(n-1) + fib_recursive(n-2)\n",
    "\n",
    "\n",
    "# -------------------------------------------------------\n",
    "# 2) Dynamic Programming with Memoization (Top-Down)\n",
    "# -------------------------------------------------------\n",
    "# - Uses a dictionary \"memo\" to remember results of subproblems.\n",
    "# - Each unique n is computed only once, then cached.\n",
    "# - Time complexity: O(n) (linear).\n",
    "# - Space complexity: O(n) due to recursion stack + memo.\n",
    "# - Much faster than naive recursion, even for larger n.\n",
    "def fib_dp(n: int, memo={0: 0, 1: 1}) -> int:\n",
    "    if n in memo:              # If already computed, return cached value\n",
    "        return memo[n]\n",
    "    # Otherwise compute and store\n",
    "    memo[n] = fib_dp(n-1, memo) + fib_dp(n-2, memo)\n",
    "    return memo[n]\n",
    "\n",
    "\n",
    "# -------------------------------------------------------\n",
    "# 3) Iterative DP (Bottom-Up Tabulation)\n",
    "# -------------------------------------------------------\n",
    "# - Builds Fibonacci sequence iteratively from the bottom up.\n",
    "# - Avoids recursion and dictionary lookups.\n",
    "# - Time complexity: O(n), Space: O(1) (only keeps last 2 values).\n",
    "# - Usually the fastest and most memory-efficient approach in Python.\n",
    "def fib_iter(n: int) -> int:\n",
    "    if n <= 1:\n",
    "        return n\n",
    "    a, b = 0, 1\n",
    "    for _ in range(2, n+1):\n",
    "        a, b = b, a+b   # shift the window forward\n",
    "    return b\n",
    "\n",
    "\n",
    "# -------------------------------------------------------\n",
    "# Performance Comparison\n",
    "# -------------------------------------------------------\n",
    "# - For fairness, we test smaller n for fib_recursive (since it explodes).\n",
    "# - For DP/memoized versions, we can handle much larger n (e.g., 1000).\n",
    "# - We time each implementation and print results.\n",
    "for func in [fib_recursive, fib_dp, fib_iter]:\n",
    "    n = 35 if func == fib_recursive else 1000\n",
    "    t0 = time.perf_counter()\n",
    "    result = func(n)\n",
    "    t1 = time.perf_counter()\n",
    "    print(f\"{func.__name__:<15} \\n\"\n",
    "            f\" fib({n}) = {result} numbers \\n\"\n",
    "            f\" time = {t1-t0:.6f} s\\n\")"
   ]
  },
  {
   "cell_type": "markdown",
   "id": "958d0b85",
   "metadata": {},
   "source": [
    "👉 **Observation**:  \n",
    "- The naive recursive version becomes infeasible beyond ~35–40.  \n",
    "- DP (memoization or iterative) handles values up to thousands easily.  \n",
    "- This demonstrates why **algorithm choice** matters more than micro‑optimizations."
   ]
  },
  {
   "cell_type": "markdown",
   "id": "68dd517f",
   "metadata": {},
   "source": [
    "## 🚀 Fibonacci Performance: Naive vs Dynamic Programming\n",
    "\n",
    "We'll compare three implementations of Fibonacci `F(n)`:\n",
    "\n",
    "1. **Naive recursive** (exponential time, repeated work)\n",
    "2. **Memoized recursive** (top‑down dynamic programming with caching)\n",
    "3. **Bottom‑up iterative** (tabulation: linear time, constant space)\n",
    "\n",
    "Then we **time** them on increasing `n` and plot a single chart."
   ]
  },
  {
   "cell_type": "code",
   "execution_count": 40,
   "id": "df23377a",
   "metadata": {},
   "outputs": [
    {
     "name": "stdout",
     "output_type": "stream",
     "text": [
      "Sanity check passed for n=0..9\n"
     ]
    }
   ],
   "source": [
    "import functools, time, math\n",
    "\n",
    "# 1) Naive recursive (hard-coded logic)\n",
    "def fib_recursive(n: int) -> int:\n",
    "    if n <= 1:\n",
    "        return n\n",
    "    return fib_recursive(n-1) + fib_recursive(n-2)\n",
    "\n",
    "# 2) Memoized recursive (top-down DP)\n",
    "@functools.lru_cache(maxsize=None)\n",
    "def fib_memo(n: int) -> int:\n",
    "    if n <= 1:\n",
    "        return n\n",
    "    return fib_memo(n-1) + fib_memo(n-2)\n",
    "\n",
    "# 3) Bottom-up iterative (tabulation)\n",
    "def fib_iter(n: int) -> int:\n",
    "    if n <= 1:\n",
    "        return n\n",
    "    a, b = 0, 1\n",
    "    for _ in range(2, n+1):\n",
    "        a, b = b, a+b\n",
    "    return b\n",
    "\n",
    "# Quick correctness check\n",
    "for k in range(10):\n",
    "    assert fib_recursive(k) == fib_memo(k) == fib_iter(k)\n",
    "print(\"Sanity check passed for n=0..9\")"
   ]
  },
  {
   "cell_type": "code",
   "execution_count": 41,
   "id": "b58a8175",
   "metadata": {},
   "outputs": [
    {
     "name": "stdout",
     "output_type": "stream",
     "text": [
      "n | naive_recursive (s) | memoized (s) | iterative (s per 1000 calls)\n",
      " 5 |           0.000002 |    0.000002 |  0.00000013\n",
      "10 |           0.000007 |    0.000002 |  0.00000019\n",
      "20 |           0.000732 |    0.000006 |  0.00000037\n",
      "25 |           0.025686 |    0.000055 |  0.00000110\n",
      "30 |           0.315841 |    0.000017 |  0.00000151\n",
      "32 |           0.300513 |    0.000111 |  0.00000062\n",
      "34 |           0.572115 |    0.000117 |  0.00000142\n"
     ]
    }
   ],
   "source": [
    "import time\n",
    "\n",
    "def time_fn(fn, n, repeat=1):\n",
    "    t0 = time.perf_counter()\n",
    "    res = None\n",
    "    for _ in range(repeat):\n",
    "        res = fn(n)\n",
    "    t1 = time.perf_counter()\n",
    "    return res, (t1 - t0)/repeat\n",
    "\n",
    "# Choose ns that won't take forever for naive recursion\n",
    "ns = [5, 10, 20, 25, 30, 32, 34]\n",
    "\n",
    "rows = []\n",
    "for n in ns:\n",
    "    # Reset memo cache to fairly time the first call scenario for each n\n",
    "    fib_memo.cache_clear()\n",
    "    r1, t_rec = time_fn(fib_recursive, n, repeat=1)\n",
    "    r2, t_mem = time_fn(fib_memo, n, repeat=1)\n",
    "    r3, t_itr = time_fn(fib_iter, n, repeat=1000)  # iterate many times to measure small cost\n",
    "    assert r1 == r2 == r3\n",
    "    rows.append((n, t_rec, t_mem, t_itr))\n",
    "\n",
    "print(\"n | naive_recursive (s) | memoized (s) | iterative (s per 1000 calls)\")\n",
    "for n, a, b, c in rows:\n",
    "    print(f\"{n:2d} | {a:18.6f} | {b:11.6f} | {c: .8f}\")"
   ]
  },
  {
   "cell_type": "code",
   "execution_count": 42,
   "id": "f5364940",
   "metadata": {},
   "outputs": [
    {
     "data": {
      "image/png": "[encoded data removed]",
      "text/plain": [
       "<Figure size 800x500 with 1 Axes>"
      ]
     },
     "metadata": {},
     "output_type": "display_data"
    }
   ],
   "source": [
    "# Single chart: n vs time\n",
    "import matplotlib.pyplot as plt\n",
    "\n",
    "n_vals = [r[0] for r in rows]\n",
    "t_rec = [r[1] for r in rows]\n",
    "t_mem = [r[2] for r in rows]\n",
    "t_itr = [r[3] for r in rows]\n",
    "\n",
    "plt.figure(figsize=(8,5))\n",
    "plt.plot(n_vals, t_rec, marker=\"o\", label=\"naive recursive\")\n",
    "plt.plot(n_vals, t_mem, marker=\"o\", label=\"memoized (top‑down DP)\")\n",
    "plt.plot(n_vals, t_itr, marker=\"o\", label=\"iterative (bottom‑up, per 1000 calls)\")\n",
    "plt.xlabel(\"n\")\n",
    "plt.ylabel(\"time (seconds)\")\n",
    "plt.title(\"Fibonacci performance: naive vs dynamic programming\")\n",
    "plt.legend()\n",
    "plt.tight_layout()\n",
    "plt.show()"
   ]
  },
  {
   "cell_type": "markdown",
   "id": "821a465a",
   "metadata": {},
   "source": [
    "### Takeaways\n",
    "- **Naive recursion** recomputes the same subproblems → **exponential** time.\n",
    "- **Memoization** caches subresults → **linear** time for first call; subsequent calls are O(1) for the same `n`.\n",
    "- **Bottom‑up** is also **linear**, often fastest in Python for single calls due to low overhead.\n",
    "- In numeric work, prefer **tabulation or memoization**; or use libraries (NumPy) or JITs (Numba) for heavy loops."
   ]
  }
 ],
 "metadata": {
  "kernelspec": {
   "display_name": "base",
   "language": "python",
   "name": "python3"
  },
  "language_info": {
   "codemirror_mode": {
    "name": "ipython",
    "version": 3
   },
   "file_extension": ".py",
   "mimetype": "text/x-python",
   "name": "python",
   "nbconvert_exporter": "python",
   "pygments_lexer": "ipython3",
   "version": "3.12.9"
  }
 },
 "nbformat": 4,
 "nbformat_minor": 5
}
