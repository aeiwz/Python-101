{
 "cells": [
  {
   "cell_type": "markdown",
   "id": "ee1ae3ca",
   "metadata": {},
   "source": [
    "# 4. Python Syntax — Expanded (EN)\n",
    "\n",
    "**Goals**\n",
    "- Master core Python syntax and patterns used in real projects.\n",
    "- Learn variable rules & scope, control flow, functions, exceptions, I/O, f‑strings, comprehensions, iterators/generators, decorators, dataclasses, enums, context managers, and modules.\n",
    "- Practice with short exercises. (Look for `# TODO` cells.)"
   ]
  },
  {
   "cell_type": "markdown",
   "id": "e1e52d38",
   "metadata": {},
   "source": [
    "## 1) Variables, Names, and Scope\n",
    "\n",
    "- Names bind to *objects* (everything is an object).\n",
    "- Scope levels: **LEGB** (Local, Enclosing, Global, Builtins).\n",
    "- Rebinding does not copy for mutable types; be careful with shared references."
   ]
  },
  {
   "cell_type": "code",
   "execution_count": 23,
   "id": "6a7bcf2f",
   "metadata": {},
   "outputs": [
    {
     "name": "stdout",
     "output_type": "stream",
     "text": [
      "x: 20 y: 10\n",
      "a: [1, 2, 3, 99] b: [1, 2, 3, 99]\n"
     ]
    }
   ],
   "source": [
    "x = 10                 # int object bound to name x\n",
    "y = x                  # y references same int object (ints are immutable)\n",
    "x = 20                 # x now bound to a different int; y unchanged\n",
    "print(\"x:\", x, \"y:\", y)\n",
    "\n",
    "# Mutable example\n",
    "a = [1,2,3]\n",
    "b = a                  # both names point to the same list\n",
    "b.append(99)\n",
    "print(\"a:\", a, \"b:\", b)  # both changed because they share the same list"
   ]
  },
  {
   "cell_type": "code",
   "execution_count": 24,
   "id": "5fdf7c4e",
   "metadata": {},
   "outputs": [
    {
     "name": "stdout",
     "output_type": "stream",
     "text": [
      "outer() -> changed in inner\n",
      "global message is still: global\n"
     ]
    }
   ],
   "source": [
    "# LEGB & 'global'/'nonlocal' demo\n",
    "message = \"global\"\n",
    "\n",
    "def outer():\n",
    "    message = \"enclosing\"\n",
    "    def inner():\n",
    "        nonlocal message    # refers to 'enclosing' scope\n",
    "        message = \"changed in inner\"\n",
    "        return message\n",
    "    inner()\n",
    "    return message\n",
    "\n",
    "print(\"outer() ->\", outer())\n",
    "print(\"global message is still:\", message)"
   ]
  },
  {
   "cell_type": "markdown",
   "id": "e13f2454",
   "metadata": {},
   "source": [
    "## 2) Control Flow Patterns\n",
    "\n",
    "- `if/elif/else`, conditional expressions.\n",
    "- `for` with `enumerate`, `zip`, and `for ... else`.\n",
    "- `while` loops with `break/continue`.\n",
    "- `match/case` (Python 3.10+) for simple structural matching."
   ]
  },
  {
   "cell_type": "code",
   "execution_count": 25,
   "id": "7024464d",
   "metadata": {},
   "outputs": [
    {
     "name": "stdout",
     "output_type": "stream",
     "text": [
      "score: 83 -> pass\n",
      "1. Ada -> 10 points\n",
      "2. Grace -> 15 points\n",
      "3. Linus -> 12 points\n",
      "found 9\n"
     ]
    }
   ],
   "source": [
    "# Conditional expression (ternary)\n",
    "score = 83\n",
    "label = \"pass\" if score >= 60 else \"fail\"\n",
    "print(\"score:\", score, \"->\", label)\n",
    "\n",
    "# for + enumerate + zip\n",
    "names = [\"Ada\",\"Grace\",\"Linus\"]\n",
    "points = [10, 15, 12]\n",
    "for i, (n, p) in enumerate(zip(names, points), start=1):\n",
    "    print(f\"{i}. {n} -> {p} points\")\n",
    "\n",
    "# for ... else: 'else' runs if the loop wasn't broken\n",
    "nums = [2,3,5,7,9,11]\n",
    "target = 9\n",
    "for v in nums:\n",
    "    if v == target:\n",
    "        print(\"found\", v)\n",
    "        break\n",
    "else:\n",
    "    print(\"not found\")  # won't run because we broke"
   ]
  },
  {
   "cell_type": "code",
   "execution_count": 26,
   "id": "7df305c5",
   "metadata": {},
   "outputs": [
    {
     "name": "stdout",
     "output_type": "stream",
     "text": [
      "Not Found OK Unknown\n"
     ]
    }
   ],
   "source": [
    "# match/case (requires Python 3.10+)\n",
    "def http_status(code: int) -> str:\n",
    "    match code:\n",
    "        case 200 | 201:\n",
    "            return \"OK\"\n",
    "        case 400:\n",
    "            return \"Bad Request\"\n",
    "        case 404:\n",
    "            return \"Not Found\"\n",
    "        case 500:\n",
    "            return \"Server Error\"\n",
    "        case _:\n",
    "            return \"Unknown\"\n",
    "\n",
    "print(http_status(404), http_status(201), http_status(123))"
   ]
  },
  {
   "cell_type": "markdown",
   "id": "32476a53",
   "metadata": {},
   "source": [
    "## 3) Comprehensions\n",
    "\n",
    "- List/Dict/Set comprehensions are concise and fast.\n",
    "- Use conditional filters inside comprehensions."
   ]
  },
  {
   "cell_type": "code",
   "execution_count": 27,
   "id": "5a4c7847",
   "metadata": {},
   "outputs": [
    {
     "name": "stdout",
     "output_type": "stream",
     "text": [
      "[0, 1, 4, 9, 16, 25] [0, 4, 16]\n",
      "{0: 'P', 1: 'Y', 2: 'T', 3: 'H', 4: 'O', 5: 'N'}\n",
      "{'m', 'p', 's', 'i'}\n"
     ]
    }
   ],
   "source": [
    "squares = [x*x for x in range(6)]\n",
    "even_squares = [x for x in squares if x % 2 == 0]\n",
    "index_map = {i: v for i, v in enumerate(\"PYTHON\")}\n",
    "unique_letters = {c.lower() for c in \"Mississippi\"}\n",
    "print(squares, even_squares)\n",
    "print(index_map)\n",
    "print(unique_letters)"
   ]
  },
  {
   "cell_type": "markdown",
   "id": "7a297c0f",
   "metadata": {},
   "source": [
    "## 4) Functions: Arguments, Defaults, *args/**kwargs, Closures\n",
    "\n",
    "- Default values are evaluated once (avoid mutable defaults).\n",
    "- Use `*args` for positional varargs, `**kwargs` for keywords.\n",
    "- Closures capture variables from the enclosing scope."
   ]
  },
  {
   "cell_type": "code",
   "execution_count": 28,
   "id": "0c5d6bdc",
   "metadata": {},
   "outputs": [
    {
     "name": "stdout",
     "output_type": "stream",
     "text": [
      "[1] [2] ['existing', 3]\n"
     ]
    }
   ],
   "source": [
    "def append_item(value, lst=None):\n",
    "    # Avoid mutable default like lst=[]\n",
    "    if lst is None:\n",
    "        lst = []\n",
    "    lst.append(value)\n",
    "    return lst\n",
    "\n",
    "print(append_item(1), append_item(2), append_item(3, ['existing']))"
   ]
  },
  {
   "cell_type": "code",
   "execution_count": 29,
   "id": "825a23b8",
   "metadata": {},
   "outputs": [
    {
     "name": "stdout",
     "output_type": "stream",
     "text": [
      "a=1|b=2|3|4|mode=demo\n"
     ]
    }
   ],
   "source": [
    "def mix(a, b=10, *args, sep=\"-\", **kw):\n",
    "    parts = [f\"a={a}\", f\"b={b}\"]\n",
    "    parts.extend(map(str, args))\n",
    "    parts.extend(f\"{k}={v}\" for k, v in kw.items())\n",
    "    return sep.join(parts)\n",
    "\n",
    "print(mix(1, 2, 3, 4, sep=\"|\", mode=\"demo\"))"
   ]
  },
  {
   "cell_type": "code",
   "execution_count": 30,
   "id": "b744f766",
   "metadata": {},
   "outputs": [
    {
     "name": "stdout",
     "output_type": "stream",
     "text": [
      "1 2 7\n"
     ]
    }
   ],
   "source": [
    "# Closures and 'nonlocal'\n",
    "def make_counter():\n",
    "    count = 0\n",
    "    def inc(step=1):\n",
    "        nonlocal count\n",
    "        count += step\n",
    "        return count\n",
    "    return inc\n",
    "\n",
    "c = make_counter()\n",
    "print(c(), c(), c(5))"
   ]
  },
  {
   "cell_type": "markdown",
   "id": "6ca0f025",
   "metadata": {},
   "source": [
    "## 5) Exceptions & Custom Errors\n",
    "\n",
    "- Use `try/except/else/finally` to handle errors.\n",
    "- Raise specific exceptions; create custom ones when helpful."
   ]
  },
  {
   "cell_type": "code",
   "execution_count": 31,
   "id": "36f1da45",
   "metadata": {},
   "outputs": [
    {
     "name": "stdout",
     "output_type": "stream",
     "text": [
      "parse_int: 42 -> 42\n",
      "Handled: Not an integer: x\n"
     ]
    }
   ],
   "source": [
    "class DataFormatError(Exception):\n",
    "    \"\"\"Custom exception for invalid data format.\"\"\"\n",
    "\n",
    "def parse_int(s: str) -> int:\n",
    "    try:\n",
    "        return int(s)\n",
    "    except ValueError as e:\n",
    "        raise DataFormatError(f\"Not an integer: {s}\") from e\n",
    "\n",
    "for s in [\"42\", \"x\"]:\n",
    "    try:\n",
    "        print(\"parse_int:\", s, \"->\", parse_int(s))\n",
    "    except DataFormatError as e:\n",
    "        print(\"Handled:\", e)"
   ]
  },
  {
   "cell_type": "markdown",
   "id": "5ddf9da8",
   "metadata": {},
   "source": [
    "## 6) Files & Context Managers (`with`)\n",
    "\n",
    "- `with` guarantees cleanup (close files).\n",
    "- Build your own context manager with `contextlib`."
   ]
  },
  {
   "cell_type": "code",
   "execution_count": 32,
   "id": "f4ac39bf",
   "metadata": {},
   "outputs": [
    {
     "name": "stdout",
     "output_type": "stream",
     "text": [
      "<start demo>\n",
      "</end demo>\n",
      "Hello!\n"
     ]
    }
   ],
   "source": [
    "from contextlib import contextmanager\n",
    "\n",
    "@contextmanager\n",
    "def tagged(name):\n",
    "    print(f\"<start {name}>\")\n",
    "    try:\n",
    "        yield\n",
    "    finally:\n",
    "        print(f\"</end {name}>\")\n",
    "\n",
    "with tagged(\"demo\"), open(\"demo.txt\", \"w\", encoding=\"utf-8\") as f:\n",
    "    f.write(\"Hello!\\n\")\n",
    "\n",
    "print(open(\"demo.txt\", encoding=\"utf-8\").read().strip())"
   ]
  },
  {
   "cell_type": "markdown",
   "id": "5f6dbc70",
   "metadata": {},
   "source": [
    "## 7) f-Strings & Formatting\n",
    "\n",
    "- Format specifiers: width, precision, alignment, thousands separator, datetime."
   ]
  },
  {
   "cell_type": "code",
   "execution_count": 33,
   "id": "1da048e9",
   "metadata": {},
   "outputs": [
    {
     "name": "stdout",
     "output_type": "stream",
     "text": [
      "pi ~ 3.142\n",
      "1,234,567\n",
      "|      3.14|\n",
      "2025-08-21 10:00\n"
     ]
    }
   ],
   "source": [
    "from datetime import datetime\n",
    "pi = 3.1415926535\n",
    "n = 1234567\n",
    "when = datetime(2025, 8, 21, 10, 0, 0)\n",
    "\n",
    "print(f\"pi ~ {pi:.3f}\")           # precision\n",
    "print(f\"{n:,}\")                  # thousands sep\n",
    "print(f\"|{pi:>10.2f}|\")          # right align in width 10\n",
    "print(f\"{when:%Y-%m-%d %H:%M}\")  # datetime formatting"
   ]
  },
  {
   "cell_type": "markdown",
   "id": "1d7e2a1b",
   "metadata": {},
   "source": [
    "## 8) Iterators & Generators\n",
    "\n",
    "- Any object with `__iter__` is iterable.\n",
    "- Generators (`yield`) produce values lazily.\n",
    "- Generator expressions are memory-efficient."
   ]
  },
  {
   "cell_type": "code",
   "execution_count": 34,
   "id": "bcd160eb",
   "metadata": {},
   "outputs": [
    {
     "name": "stdout",
     "output_type": "stream",
     "text": [
      "[5, 4, 3, 2, 1]\n",
      "0 1\n",
      "29\n"
     ]
    }
   ],
   "source": [
    "def countdown(n):\n",
    "    while n > 0:\n",
    "        yield n\n",
    "        n -= 1\n",
    "\n",
    "print(list(countdown(5)))\n",
    "\n",
    "# Generator expression\n",
    "squares = (i*i for i in range(5))\n",
    "print(next(squares), next(squares))\n",
    "print(sum(squares))  # uses remaining values"
   ]
  },
  {
   "cell_type": "markdown",
   "id": "da06e242",
   "metadata": {},
   "source": [
    "## 9) Decorators (functions that wrap functions)\n",
    "\n",
    "- Decorators add behavior (logging, caching, auth) without changing the wrapped function."
   ]
  },
  {
   "cell_type": "code",
   "execution_count": 35,
   "id": "a5a52cf0",
   "metadata": {},
   "outputs": [
    {
     "name": "stdout",
     "output_type": "stream",
     "text": [
      "slow_add took 55.03 ms\n",
      "slow_add: 5\n"
     ]
    }
   ],
   "source": [
    "import time\n",
    "from functools import wraps\n",
    "\n",
    "def timing(fn):\n",
    "    @wraps(fn)\n",
    "    def wrapper(*args, **kwargs):\n",
    "        t0 = time.perf_counter()\n",
    "        try:\n",
    "            return fn(*args, **kwargs)\n",
    "        finally:\n",
    "            dt = time.perf_counter() - t0\n",
    "            print(f\"{fn.__name__} took {dt*1000:.2f} ms\")\n",
    "    return wrapper\n",
    "\n",
    "@timing\n",
    "def slow_add(a, b):\n",
    "    time.sleep(0.05)\n",
    "    return a + b\n",
    "\n",
    "print(\"slow_add:\", slow_add(2, 3))"
   ]
  },
  {
   "cell_type": "markdown",
   "id": "5e04327b",
   "metadata": {},
   "source": [
    "## 10) Dataclasses & Enum\n",
    "\n",
    "- `dataclasses` generate boilerplate (`__init__`, `__repr__`, comparisons).\n",
    "- `Enum` provides named constants."
   ]
  },
  {
   "cell_type": "code",
   "execution_count": 36,
   "id": "f0c37cae",
   "metadata": {},
   "outputs": [
    {
     "name": "stdout",
     "output_type": "stream",
     "text": [
      "User(name='Alice', role=<Role.ADMIN: 2>, active=True)\n",
      "True\n"
     ]
    }
   ],
   "source": [
    "from dataclasses import dataclass\n",
    "from enum import Enum, auto\n",
    "\n",
    "class Role(Enum):\n",
    "    USER = auto()\n",
    "    ADMIN = auto()\n",
    "\n",
    "@dataclass\n",
    "class User:\n",
    "    name: str\n",
    "    role: Role = Role.USER\n",
    "    active: bool = True\n",
    "\n",
    "u = User(\"Alice\", role=Role.ADMIN)\n",
    "print(u)\n",
    "print(u.role is Role.ADMIN)"
   ]
  },
  {
   "cell_type": "markdown",
   "id": "4f26dbfd",
   "metadata": {},
   "source": [
    "## 11) Modules & Imports\n",
    "\n",
    "- `import module`, `from module import name`, or `as alias`.\n",
    "- `if __name__ == \"__main__\":` for runnable modules."
   ]
  },
  {
   "cell_type": "code",
   "execution_count": 37,
   "id": "163b2132",
   "metadata": {},
   "outputs": [
    {
     "name": "stdout",
     "output_type": "stream",
     "text": [
      "\u001b[33mDEPRECATION: Loading egg at /opt/homebrew/lib/python3.12/site-packages/pypls-1.0.3-py3.12-macosx-15.0-arm64.egg is deprecated. pip 25.1 will enforce this behaviour change. A possible replacement is to use pip for package installation. Discussion can be found at https://github.com/pypa/pip/issues/12330\u001b[0m\u001b[33m\n",
      "\u001b[0mRequirement already satisfied: geom in /opt/homebrew/lib/python3.12/site-packages (0.3.0)\n"
     ]
    }
   ],
   "source": [
    "# Install package\n",
    "!pip install geom"
   ]
  },
  {
   "cell_type": "code",
   "execution_count": 38,
   "id": "25f8c879",
   "metadata": {},
   "outputs": [
    {
     "name": "stdout",
     "output_type": "stream",
     "text": [
      "Imported geom from: /Volumes/Extreme SSD/Github/Python-101/App/notebooks/geom.py\n",
      "Exported names: ['area_circle']\n",
      "area r=3: 28.274333882308138\n"
     ]
    }
   ],
   "source": [
    "import sys, importlib, os, pathlib\n",
    "\n",
    "# 1) Write the module file to the *current working directory*\n",
    "mod_code = \"\"\"\n",
    "def area_circle(r):\n",
    "    from math import pi\n",
    "    return pi * r * r\n",
    "\n",
    "if __name__ == '__main__':\n",
    "    print('area of r=2 ->', area_circle(2))\n",
    "\"\"\"\n",
    "path = pathlib.Path(\"geom.py\").resolve()\n",
    "path.write_text(mod_code, encoding=\"utf-8\")\n",
    "\n",
    "# 2) Make sure the directory is on sys.path\n",
    "cwd = str(path.parent)\n",
    "if cwd not in sys.path:\n",
    "    sys.path.insert(0, cwd)\n",
    "\n",
    "# 3) Invalidate import caches and remove any old module object\n",
    "importlib.invalidate_caches()\n",
    "sys.modules.pop(\"geom\", None)\n",
    "\n",
    "# 4) Import fresh and verify where it came from\n",
    "geom = importlib.import_module(\"geom\")\n",
    "print(\"Imported geom from:\", getattr(geom, \"__file__\", \"<no __file__>\"))\n",
    "print(\"Exported names:\", [n for n in dir(geom) if not n.startswith(\"_\")])\n",
    "\n",
    "# 5) Use it\n",
    "print(\"area r=3:\", geom.area_circle(3))"
   ]
  },
  {
   "cell_type": "markdown",
   "id": "86bb473a",
   "metadata": {},
   "source": [
    "## 12) Exercises (Short)\n",
    "\n",
    "1. **FizzBuzz**: Print numbers 1..50. For multiples of 3 print `Fizz`, of 5 print `Buzz`, of both print `FizzBuzz`.\n",
    "2. **Unique Words**: Given a sentence, create a dictionary mapping each lowercase word to its count.\n",
    "3. **Anonymize CSV**: Read a CSV file with a column `email` and output a list of masked emails (keep only the domain).\n",
    "4. **Temperature Converter**: Write a function that accepts `value` and `unit` (`'C'` or `'F'`) and converts to the other.\n",
    "5. **Decorator Practice**: Write a decorator that retries a function up to 3 times if it raises a `ValueError`."
   ]
  },
  {
   "cell_type": "code",
   "execution_count": 39,
   "id": "06b3be74",
   "metadata": {},
   "outputs": [
    {
     "name": "stdout",
     "output_type": "stream",
     "text": [
      "1\n",
      "2\n",
      "Fizz\n",
      "4\n",
      "Buzz\n",
      "Fizz\n",
      "7\n",
      "8\n",
      "Fizz\n",
      "Buzz\n",
      "11\n",
      "Fizz\n",
      "13\n",
      "14\n",
      "FizzBuzz\n",
      "16\n",
      "17\n",
      "Fizz\n",
      "19\n",
      "Buzz\n",
      "Fizz\n",
      "22\n",
      "23\n",
      "Fizz\n",
      "Buzz\n",
      "26\n",
      "Fizz\n",
      "28\n",
      "29\n",
      "FizzBuzz\n",
      "31\n",
      "32\n",
      "Fizz\n",
      "34\n",
      "Buzz\n",
      "Fizz\n",
      "37\n",
      "38\n",
      "Fizz\n",
      "Buzz\n",
      "41\n",
      "Fizz\n",
      "43\n",
      "44\n",
      "FizzBuzz\n",
      "46\n",
      "47\n",
      "Fizz\n",
      "49\n",
      "Buzz\n"
     ]
    }
   ],
   "source": [
    "# TODO 1) FizzBuzz\n",
    "for i in range(1, 51):\n",
    "    out = \"\"\n",
    "    if i % 3 == 0: out += \"Fizz\"\n",
    "    if i % 5 == 0: out += \"Buzz\"\n",
    "    print(out or i)"
   ]
  },
  {
   "cell_type": "code",
   "execution_count": 40,
   "id": "aa0d19aa",
   "metadata": {},
   "outputs": [
    {
     "data": {
      "text/plain": [
       "{'to': 2,\n",
       " 'be': 2,\n",
       " 'or': 1,\n",
       " 'not': 1,\n",
       " 'that': 1,\n",
       " 'is': 1,\n",
       " 'the': 1,\n",
       " 'question': 1}"
      ]
     },
     "execution_count": 40,
     "metadata": {},
     "output_type": "execute_result"
    }
   ],
   "source": [
    "# TODO 2) Unique Words\n",
    "text = \"To be or not to be, that is the Question.\"\n",
    "counts = {}\n",
    "for token in text.lower().replace(\",\", \"\").replace(\".\", \"\").split():\n",
    "    counts[token] = counts.get(token, 0) + 1\n",
    "counts"
   ]
  },
  {
   "cell_type": "code",
   "execution_count": 41,
   "id": "3082e427",
   "metadata": {},
   "outputs": [
    {
     "data": {
      "text/plain": [
       "['example.com', 'lab.org', 'uni.ac.th']"
      ]
     },
     "execution_count": 41,
     "metadata": {},
     "output_type": "execute_result"
    }
   ],
   "source": [
    "# TODO 3) Anonymize CSV (demo with in-memory rows)\n",
    "rows = [\n",
    "    {\"email\":\"alice@example.com\"},\n",
    "    {\"email\":\"bob@lab.org\"},\n",
    "    {\"email\":\"carol@uni.ac.th\"}\n",
    "]\n",
    "masked = [r[\"email\"].split(\"@\")[-1] for r in rows]\n",
    "masked"
   ]
  },
  {
   "cell_type": "code",
   "execution_count": 42,
   "id": "d3d0a7c9",
   "metadata": {},
   "outputs": [
    {
     "name": "stdout",
     "output_type": "stream",
     "text": [
      "212.0 0.0\n"
     ]
    }
   ],
   "source": [
    "# TODO 4) Temperature Converter\n",
    "def convert_temp(value: float, unit: str) -> float:\n",
    "    if unit.upper() == \"C\":\n",
    "        return value * 9/5 + 32\n",
    "    elif unit.upper() == \"F\":\n",
    "        return (value - 32) * 5/9\n",
    "    else:\n",
    "        raise ValueError(\"unit must be 'C' or 'F'\")\n",
    "\n",
    "print(convert_temp(100, \"C\"), convert_temp(32, \"F\"))"
   ]
  },
  {
   "cell_type": "code",
   "execution_count": 43,
   "id": "a7e9f547",
   "metadata": {},
   "outputs": [
    {
     "name": "stdout",
     "output_type": "stream",
     "text": [
      "ok\n",
      "ok\n",
      "ok\n",
      "failed: boom\n",
      "ok\n"
     ]
    }
   ],
   "source": [
    "# TODO 5) Retry Decorator\n",
    "import random, time\n",
    "from functools import wraps\n",
    "\n",
    "def retry3(fn):\n",
    "    @wraps(fn)\n",
    "    def wrapper(*args, **kwargs):\n",
    "        last = None\n",
    "        for _ in range(3):\n",
    "            try:\n",
    "                return fn(*args, **kwargs)\n",
    "            except ValueError as e:\n",
    "                last = e\n",
    "                time.sleep(0.01)\n",
    "        raise last\n",
    "    return wrapper\n",
    "\n",
    "@retry3\n",
    "def flaky():\n",
    "    if random.random() < 0.6:\n",
    "        raise ValueError(\"boom\")\n",
    "    return \"ok\"\n",
    "\n",
    "# Try a few times\n",
    "for _ in range(5):\n",
    "    try:\n",
    "        print(flaky())\n",
    "    except ValueError as e:\n",
    "        print(\"failed:\", e)"
   ]
  }
 ],
 "metadata": {
  "kernelspec": {
   "display_name": "Python 3",
   "language": "python",
   "name": "python3"
  },
  "language_info": {
   "codemirror_mode": {
    "name": "ipython",
    "version": 3
   },
   "file_extension": ".py",
   "mimetype": "text/x-python",
   "name": "python",
   "nbconvert_exporter": "python",
   "pygments_lexer": "ipython3",
   "version": "3.12.9"
  }
 },
 "nbformat": 4,
 "nbformat_minor": 5
}
